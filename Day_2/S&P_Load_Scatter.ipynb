{
 "cells": [
  {
   "cell_type": "markdown",
   "metadata": {},
   "source": [
    "# S&P 500 ESG Risk Load and Scatter\n"
   ]
  },
  {
   "cell_type": "code",
   "execution_count": 19,
   "metadata": {},
   "outputs": [
    {
     "name": "stdout",
     "output_type": "stream",
     "text": [
      "<class 'pandas.core.frame.DataFrame'>\n",
      "RangeIndex: 503 entries, 0 to 502\n",
      "Data columns (total 16 columns):\n",
      " #   Column                  Non-Null Count  Dtype  \n",
      "---  ------                  --------------  -----  \n",
      " 0   Symbol                  503 non-null    object \n",
      " 1   Name                    503 non-null    object \n",
      " 2   Address                 501 non-null    object \n",
      " 3   Sector                  501 non-null    object \n",
      " 4   Industry                501 non-null    object \n",
      " 5   Full Time Employees     496 non-null    float64\n",
      " 6   Description             501 non-null    object \n",
      " 7   Total ESG Risk score    433 non-null    float64\n",
      " 8   Environment Risk Score  433 non-null    float64\n",
      " 9   Governance Risk Score   433 non-null    float64\n",
      " 10  Social Risk Score       433 non-null    float64\n",
      " 11  Controversy Level       404 non-null    object \n",
      " 12  Controversy Score       433 non-null    float64\n",
      " 13  ESG Risk Percentile     433 non-null    object \n",
      " 14  ESG Risk Level          376 non-null    object \n",
      " 15  log_employees           496 non-null    float64\n",
      "dtypes: float64(7), object(9)\n",
      "memory usage: 63.0+ KB\n"
     ]
    }
   ],
   "source": [
    "from math import log10\n",
    "import pandas as pd\n",
    "df1 = pd.read_csv('/Users/danielharrod/git/S&P 500 ESG Risk Ratings /SP 500 ESG Risk Ratings.csv', thousands=',')\n",
    "df1['log_employees'] = df1['Full Time Employees'].apply(log10)\n",
    "df1.info()"
   ]
  },
  {
   "cell_type": "code",
   "execution_count": 20,
   "metadata": {},
   "outputs": [
    {
     "data": {
      "text/html": [
       "<div>\n",
       "<style scoped>\n",
       "    .dataframe tbody tr th:only-of-type {\n",
       "        vertical-align: middle;\n",
       "    }\n",
       "\n",
       "    .dataframe tbody tr th {\n",
       "        vertical-align: top;\n",
       "    }\n",
       "\n",
       "    .dataframe thead th {\n",
       "        text-align: right;\n",
       "    }\n",
       "</style>\n",
       "<table border=\"1\" class=\"dataframe\">\n",
       "  <thead>\n",
       "    <tr style=\"text-align: right;\">\n",
       "      <th></th>\n",
       "      <th>Symbol</th>\n",
       "      <th>Name</th>\n",
       "      <th>Address</th>\n",
       "      <th>Sector</th>\n",
       "      <th>Industry</th>\n",
       "      <th>Full Time Employees</th>\n",
       "      <th>Description</th>\n",
       "      <th>Total ESG Risk score</th>\n",
       "      <th>Environment Risk Score</th>\n",
       "      <th>Governance Risk Score</th>\n",
       "      <th>Social Risk Score</th>\n",
       "      <th>Controversy Level</th>\n",
       "      <th>Controversy Score</th>\n",
       "      <th>ESG Risk Percentile</th>\n",
       "      <th>ESG Risk Level</th>\n",
       "      <th>log_employees</th>\n",
       "    </tr>\n",
       "  </thead>\n",
       "  <tbody>\n",
       "    <tr>\n",
       "      <th>0</th>\n",
       "      <td>A</td>\n",
       "      <td>Agilent Technologies Inc</td>\n",
       "      <td>5301 Stevens Creek Boulevard\\nSanta Clara, CA ...</td>\n",
       "      <td>Healthcare</td>\n",
       "      <td>Diagnostics &amp; Research</td>\n",
       "      <td>18000.0</td>\n",
       "      <td>Agilent Technologies, Inc. provides applicatio...</td>\n",
       "      <td>15.0</td>\n",
       "      <td>0.3</td>\n",
       "      <td>6.3</td>\n",
       "      <td>8.6</td>\n",
       "      <td>Low</td>\n",
       "      <td>1.0</td>\n",
       "      <td>11th percentile</td>\n",
       "      <td>Low</td>\n",
       "      <td>4.255273</td>\n",
       "    </tr>\n",
       "    <tr>\n",
       "      <th>1</th>\n",
       "      <td>AAL</td>\n",
       "      <td>American Airlines Group Inc</td>\n",
       "      <td>1 Skyview Drive\\nFort Worth, TX 76155\\nUnited ...</td>\n",
       "      <td>Industrials</td>\n",
       "      <td>Airlines</td>\n",
       "      <td>132500.0</td>\n",
       "      <td>American Airlines Group Inc., through its subs...</td>\n",
       "      <td>29.0</td>\n",
       "      <td>12.0</td>\n",
       "      <td>5.0</td>\n",
       "      <td>12.0</td>\n",
       "      <td>Moderate</td>\n",
       "      <td>2.0</td>\n",
       "      <td>62nd percentile</td>\n",
       "      <td>NaN</td>\n",
       "      <td>5.122216</td>\n",
       "    </tr>\n",
       "    <tr>\n",
       "      <th>2</th>\n",
       "      <td>AAP</td>\n",
       "      <td>Advance Auto Parts Inc</td>\n",
       "      <td>4200 Six Forks Road\\nRaleigh, NC 27609\\nUnited...</td>\n",
       "      <td>Consumer Cyclical</td>\n",
       "      <td>Specialty Retail</td>\n",
       "      <td>40000.0</td>\n",
       "      <td>Advance Auto Parts, Inc. provides automotive r...</td>\n",
       "      <td>12.0</td>\n",
       "      <td>0.0</td>\n",
       "      <td>3.0</td>\n",
       "      <td>8.0</td>\n",
       "      <td>Moderate</td>\n",
       "      <td>2.0</td>\n",
       "      <td>4th percentile</td>\n",
       "      <td>Negligible</td>\n",
       "      <td>4.602060</td>\n",
       "    </tr>\n",
       "    <tr>\n",
       "      <th>3</th>\n",
       "      <td>AAPL</td>\n",
       "      <td>Apple Inc</td>\n",
       "      <td>One Apple Park Way\\nCupertino, CA 95014\\nUnite...</td>\n",
       "      <td>Technology</td>\n",
       "      <td>Consumer Electronics</td>\n",
       "      <td>164000.0</td>\n",
       "      <td>Apple Inc. designs, manufactures, and markets ...</td>\n",
       "      <td>17.0</td>\n",
       "      <td>0.6</td>\n",
       "      <td>9.2</td>\n",
       "      <td>6.9</td>\n",
       "      <td>Significant</td>\n",
       "      <td>3.0</td>\n",
       "      <td>15th percentile</td>\n",
       "      <td>Low</td>\n",
       "      <td>5.214844</td>\n",
       "    </tr>\n",
       "    <tr>\n",
       "      <th>4</th>\n",
       "      <td>ABBV</td>\n",
       "      <td>Abbvie Inc</td>\n",
       "      <td>1 North Waukegan Road\\nNorth Chicago, IL 60064...</td>\n",
       "      <td>Healthcare</td>\n",
       "      <td>Drug Manufacturers—General</td>\n",
       "      <td>50000.0</td>\n",
       "      <td>AbbVie Inc. discovers, develops, manufactures,...</td>\n",
       "      <td>28.0</td>\n",
       "      <td>1.1</td>\n",
       "      <td>9.9</td>\n",
       "      <td>16.8</td>\n",
       "      <td>Significant</td>\n",
       "      <td>3.0</td>\n",
       "      <td>55th percentile</td>\n",
       "      <td>Medium</td>\n",
       "      <td>4.698970</td>\n",
       "    </tr>\n",
       "  </tbody>\n",
       "</table>\n",
       "</div>"
      ],
      "text/plain": [
       "  Symbol                         Name  ... ESG Risk Level log_employees\n",
       "0      A     Agilent Technologies Inc  ...            Low      4.255273\n",
       "1    AAL  American Airlines Group Inc  ...            NaN      5.122216\n",
       "2    AAP       Advance Auto Parts Inc  ...     Negligible      4.602060\n",
       "3   AAPL                    Apple Inc  ...            Low      5.214844\n",
       "4   ABBV                   Abbvie Inc  ...         Medium      4.698970\n",
       "\n",
       "[5 rows x 16 columns]"
      ]
     },
     "execution_count": 20,
     "metadata": {},
     "output_type": "execute_result"
    }
   ],
   "source": [
    "df1.head()"
   ]
  },
  {
   "cell_type": "code",
   "execution_count": 35,
   "metadata": {},
   "outputs": [],
   "source": [
    "# Here is a simple cell to drop all rows with missing values\n",
    "df1_cleaned = df1.dropna(subset=['Total ESG Risk score', 'Controversy Score', 'ESG Risk Level', 'Symbol', 'Sector'])"
   ]
  },
  {
   "cell_type": "code",
   "execution_count": 33,
   "metadata": {},
   "outputs": [
    {
     "data": {
      "application/vnd.plotly.v1+json": {
       "config": {
        "plotlyServerURL": "https://plot.ly"
       },
       "data": [
        {
         "hovertemplate": "<b>%{hovertext}</b><br><br>ESG Risk Level=Low<br>Total ESG Risk score=%{x}<br>Controversy Score=%{y}<extra></extra>",
         "hovertext": [
          "A",
          "AAPL",
          "ABC",
          "ADBE",
          "ADP",
          "AKAM",
          "AMAT",
          "AMT",
          "APD",
          "ARE",
          "ATVI",
          "AVY",
          "AXP",
          "AZO",
          "BALL",
          "BBY",
          "BR",
          "CCI",
          "CDNS",
          "CI",
          "CME",
          "CMI",
          "COO",
          "CPRT",
          "CPT",
          "CRM",
          "CSCO",
          "CTSH",
          "DE",
          "DG",
          "DHR",
          "DIS",
          "DLR",
          "DLTR",
          "EA",
          "ELV",
          "EQIX",
          "ESS",
          "ETN",
          "EW",
          "EXPD",
          "FIS",
          "FITB",
          "FLT",
          "FTNT",
          "GEN",
          "GPN",
          "GRMN",
          "GWW",
          "HD",
          "IBM",
          "ICE",
          "INTC",
          "INTU",
          "IPG",
          "IQV",
          "IRM",
          "ITW",
          "JBHT",
          "JCI",
          "JKHY",
          "KIM",
          "KLAC",
          "KMI",
          "KMX",
          "L",
          "LDOS",
          "LH",
          "LKQ",
          "LOW",
          "LRCX",
          "LVS",
          "MA",
          "MAA",
          "MCK",
          "MCO",
          "MET",
          "MMC",
          "MSFT",
          "MSI",
          "MU",
          "NDAQ",
          "NFLX",
          "NKE",
          "NOW",
          "NTAP",
          "NVDA",
          "O",
          "OMC",
          "ORCL",
          "ORLY",
          "PANW",
          "PAYX",
          "PEP",
          "PFG",
          "PKG",
          "PRU",
          "PTC",
          "PYPL",
          "QCOM",
          "REGN",
          "RF",
          "ROK",
          "ROST",
          "SNPS",
          "SPG",
          "SPGI",
          "STX",
          "SYF",
          "SYY",
          "TER",
          "TGT",
          "TJX",
          "TMO",
          "TRMB",
          "TT",
          "TXN",
          "UDR",
          "UNH",
          "UPS",
          "URI",
          "V",
          "VRSK",
          "VTR",
          "VZ",
          "WAT",
          "WBA",
          "WDC",
          "WM",
          "WTW",
          "ZTS"
         ],
         "legendgroup": "Low",
         "marker": {
          "color": "#636efa",
          "symbol": "circle"
         },
         "mode": "markers",
         "name": "Low",
         "orientation": "v",
         "showlegend": true,
         "type": "scatter",
         "x": [
          15,
          17,
          12,
          12,
          14,
          17,
          12,
          11,
          11,
          14,
          19,
          15,
          18,
          11,
          11,
          14,
          16,
          13,
          12,
          12,
          15,
          19,
          20,
          18,
          16,
          13,
          12,
          14,
          17,
          17,
          12,
          15,
          13,
          15,
          10,
          11,
          12,
          12,
          18,
          19,
          16,
          18,
          17,
          18,
          19,
          15,
          19,
          19,
          15,
          13,
          15,
          16,
          17,
          16,
          10,
          19,
          15,
          20,
          14,
          15,
          15,
          12,
          17,
          19,
          12,
          16,
          12,
          19,
          11,
          11,
          13,
          18,
          17,
          15,
          15,
          11,
          15,
          19,
          15,
          14,
          17,
          12,
          16,
          17,
          16,
          15,
          13,
          15,
          16,
          14,
          13,
          14,
          17,
          16,
          17,
          17,
          16,
          19,
          16,
          17,
          18,
          16,
          18,
          16,
          13,
          14,
          14,
          11,
          17,
          12,
          16,
          15,
          14,
          14,
          13,
          16,
          20,
          12,
          18,
          20,
          18,
          16,
          19,
          13,
          18,
          17,
          18,
          11,
          17,
          19,
          18
         ],
         "xaxis": "x",
         "y": [
          1,
          3,
          3,
          1,
          1,
          1,
          1,
          1,
          1,
          0,
          4,
          1,
          2,
          2,
          2,
          2,
          2,
          0,
          0,
          2,
          1,
          2,
          2,
          1,
          1,
          2,
          2,
          2,
          2,
          2,
          2,
          2,
          0,
          2,
          2,
          2,
          1,
          1,
          1,
          2,
          2,
          1,
          2,
          2,
          1,
          2,
          1,
          2,
          1,
          2,
          2,
          2,
          3,
          2,
          1,
          2,
          2,
          2,
          1,
          3,
          0,
          0,
          0,
          2,
          2,
          2,
          2,
          2,
          2,
          2,
          1,
          2,
          4,
          1,
          3,
          2,
          2,
          2,
          3,
          3,
          2,
          1,
          2,
          3,
          1,
          1,
          2,
          2,
          1,
          2,
          1,
          1,
          0,
          3,
          1,
          1,
          1,
          0,
          2,
          4,
          2,
          2,
          2,
          2,
          0,
          1,
          1,
          1,
          2,
          2,
          0,
          3,
          2,
          3,
          0,
          2,
          2,
          1,
          3,
          2,
          1,
          3,
          1,
          0,
          3,
          0,
          3,
          1,
          2,
          2,
          1
         ],
         "yaxis": "y"
        },
        {
         "hovertemplate": "<b>%{hovertext}</b><br><br>ESG Risk Level=Negligible<br>Total ESG Risk score=%{x}<br>Controversy Score=%{y}<extra></extra>",
         "hovertext": [
          "AAP",
          "ACN",
          "ADSK",
          "AFL",
          "ALL",
          "ANET",
          "ANSS",
          "APTV",
          "AVB",
          "BBWI",
          "BEN",
          "BIO",
          "BWA",
          "BXP",
          "CAH",
          "CHD",
          "CTAS",
          "DXC",
          "EBAY",
          "EQR",
          "ES",
          "EXR",
          "FFIV",
          "FRT",
          "GLW",
          "GPC",
          "HIG",
          "HLT",
          "HPE",
          "HPQ",
          "HSIC",
          "HST",
          "IDXX",
          "ILMN",
          "JNPR",
          "LNC",
          "MHK",
          "MSCI",
          "MTD",
          "NWL",
          "NWSA",
          "PLD",
          "PSA",
          "REG",
          "RHI",
          "RL",
          "SBAC",
          "TEL",
          "TPR",
          "TROW",
          "TSCO",
          "ULTA",
          "VFC",
          "WELL",
          "WHR",
          "WY",
          "XRAY",
          "XYL"
         ],
         "legendgroup": "Negligible",
         "marker": {
          "color": "#EF553B",
          "symbol": "circle"
         },
         "mode": "markers",
         "name": "Negligible",
         "orientation": "v",
         "showlegend": true,
         "type": "scatter",
         "x": [
          12,
          10,
          16,
          17,
          19,
          16,
          13,
          12,
          11,
          16,
          18,
          17,
          13,
          13,
          12,
          20,
          18,
          16,
          17,
          11,
          19,
          14,
          19,
          12,
          19,
          13,
          16,
          17,
          12,
          11,
          13,
          14,
          19,
          11,
          17,
          18,
          14,
          16,
          13,
          14,
          12,
          9,
          12,
          11,
          11,
          13,
          12,
          16,
          13,
          17,
          14,
          15,
          13,
          12,
          16,
          18,
          16,
          16
         ],
         "xaxis": "x",
         "y": [
          2,
          2,
          0,
          2,
          2,
          1,
          0,
          1,
          1,
          2,
          2,
          1,
          2,
          1,
          3,
          2,
          2,
          2,
          2,
          1,
          2,
          1,
          1,
          1,
          2,
          2,
          1,
          2,
          2,
          2,
          2,
          1,
          1,
          3,
          1,
          2,
          2,
          0,
          0,
          2,
          2,
          1,
          1,
          0,
          1,
          2,
          0,
          0,
          2,
          1,
          2,
          2,
          2,
          1,
          2,
          2,
          1,
          1
         ],
         "yaxis": "y"
        },
        {
         "hovertemplate": "<b>%{hovertext}</b><br><br>ESG Risk Level=Medium<br>Total ESG Risk score=%{x}<br>Controversy Score=%{y}<extra></extra>",
         "hovertext": [
          "ABBV",
          "ABT",
          "ADI",
          "AEE",
          "AJG",
          "AME",
          "AMGN",
          "AMP",
          "APH",
          "AVGO",
          "BAC",
          "BAX",
          "BDX",
          "BIIB",
          "BK",
          "BKNG",
          "BLK",
          "BMY",
          "BRO",
          "BSX",
          "C",
          "CB",
          "CBOE",
          "CCL",
          "CE",
          "CFG",
          "CINF",
          "CL",
          "CLX",
          "CMCSA",
          "CMG",
          "CMS",
          "CNC",
          "CNP",
          "COST",
          "CSGP",
          "CSX",
          "CVS",
          "D",
          "DD",
          "DGX",
          "DHI",
          "DOV",
          "DRI",
          "DUK",
          "ED",
          "EL",
          "EMR",
          "ETR",
          "EXC",
          "EXPE",
          "F",
          "FAST",
          "FDS",
          "FDX",
          "FE",
          "GILD",
          "GOOGL",
          "GS",
          "HAL",
          "HBAN",
          "HCA",
          "HOLX",
          "HON",
          "HRL",
          "HSY",
          "HUM",
          "IEX",
          "IFF",
          "INCY",
          "IP",
          "ISRG",
          "J",
          "JNJ",
          "JPM",
          "K",
          "KO",
          "KR",
          "LEN",
          "LMT",
          "LNT",
          "MAR",
          "MAS",
          "MCD",
          "MDLZ",
          "MDT",
          "MGM",
          "MKC",
          "MO",
          "MPC",
          "MRK",
          "MS",
          "NDSN",
          "NEE",
          "NEM",
          "NOC",
          "NSC",
          "NTRS",
          "NVR",
          "NXPI",
          "PFE",
          "PG",
          "PGR",
          "PH",
          "PHM",
          "PM",
          "PNC",
          "PPG",
          "PSX",
          "RJF",
          "ROP",
          "RSG",
          "SBUX",
          "SCHW",
          "SHW",
          "SLB",
          "SWK",
          "SWKS",
          "SYK",
          "T",
          "TAP",
          "TMUS",
          "TRV",
          "TSLA",
          "UAL",
          "UNP",
          "VMC",
          "VRSN",
          "VRTX",
          "WAB",
          "WMT",
          "WRB",
          "XEL",
          "YUM"
         ],
         "legendgroup": "Medium",
         "marker": {
          "color": "#00cc96",
          "symbol": "circle"
         },
         "mode": "markers",
         "name": "Medium",
         "orientation": "v",
         "showlegend": true,
         "type": "scatter",
         "x": [
          28,
          25,
          24,
          30,
          21,
          24,
          22,
          23,
          21,
          22,
          27,
          24,
          27,
          21,
          21,
          22,
          21,
          23,
          21,
          26,
          27,
          24,
          21,
          24,
          29,
          23,
          26,
          22,
          21,
          25,
          24,
          21,
          21,
          26,
          24,
          27,
          20,
          23,
          25,
          29,
          21,
          22,
          25,
          28,
          28,
          23,
          26,
          29,
          30,
          24,
          26,
          30,
          26,
          20,
          20,
          30,
          22,
          24,
          26,
          24,
          20,
          28,
          28,
          29,
          30,
          27,
          22,
          27,
          22,
          24,
          24,
          24,
          22,
          25,
          29,
          27,
          23,
          21,
          23,
          28,
          22,
          22,
          22,
          25,
          24,
          23,
          25,
          27,
          24,
          29,
          22,
          22,
          27,
          28,
          20,
          27,
          23,
          24,
          20,
          22,
          25,
          27,
          21,
          29,
          21,
          24,
          22,
          24,
          29,
          24,
          23,
          21,
          25,
          24,
          29,
          22,
          26,
          28,
          29,
          22,
          21,
          26,
          21,
          29,
          29,
          25,
          29,
          21,
          23,
          23,
          25,
          22,
          24,
          21
         ],
         "xaxis": "x",
         "y": [
          3,
          3,
          0,
          2,
          2,
          1,
          3,
          2,
          2,
          3,
          3,
          3,
          3,
          3,
          3,
          3,
          2,
          2,
          1,
          2,
          4,
          2,
          1,
          3,
          2,
          2,
          1,
          3,
          2,
          2,
          2,
          2,
          2,
          2,
          3,
          1,
          3,
          3,
          2,
          3,
          3,
          2,
          1,
          2,
          2,
          3,
          2,
          2,
          2,
          3,
          2,
          3,
          2,
          1,
          2,
          3,
          2,
          4,
          3,
          2,
          2,
          2,
          1,
          3,
          3,
          3,
          2,
          0,
          2,
          1,
          3,
          1,
          3,
          4,
          3,
          2,
          3,
          3,
          2,
          3,
          1,
          3,
          1,
          3,
          3,
          3,
          2,
          2,
          2,
          3,
          3,
          3,
          1,
          2,
          3,
          2,
          2,
          2,
          1,
          1,
          3,
          3,
          1,
          2,
          2,
          3,
          3,
          1,
          3,
          2,
          0,
          3,
          3,
          2,
          2,
          1,
          2,
          1,
          3,
          3,
          2,
          3,
          1,
          3,
          2,
          2,
          2,
          1,
          2,
          1,
          4,
          1,
          2,
          2
         ],
         "yaxis": "y"
        },
        {
         "hovertemplate": "<b>%{hovertext}</b><br><br>ESG Risk Level=Severe<br>Total ESG Risk score=%{x}<br>Controversy Score=%{y}<extra></extra>",
         "hovertext": [
          "ADM",
          "CTRA",
          "DTE",
          "FMC",
          "FTV",
          "GE",
          "HES",
          "KHC",
          "MCHP",
          "MLM",
          "MRO",
          "NRG",
          "NUE",
          "PCG",
          "PNW",
          "PWR",
          "TDG",
          "UHS"
         ],
         "legendgroup": "Severe",
         "marker": {
          "color": "#ab63fa",
          "symbol": "circle"
         },
         "mode": "markers",
         "name": "Severe",
         "orientation": "v",
         "showlegend": true,
         "type": "scatter",
         "x": [
          36,
          46,
          30,
          33,
          35,
          41,
          36,
          35,
          31,
          32,
          42,
          32,
          32,
          35,
          31,
          37,
          39,
          33
         ],
         "xaxis": "x",
         "y": [
          3,
          2,
          2,
          2,
          1,
          3,
          2,
          3,
          1,
          2,
          2,
          2,
          2,
          5,
          1,
          2,
          2,
          3
         ],
         "yaxis": "y"
        },
        {
         "hovertemplate": "<b>%{hovertext}</b><br><br>ESG Risk Level=High<br>Total ESG Risk score=%{x}<br>Controversy Score=%{y}<extra></extra>",
         "hovertext": [
          "AES",
          "AMZN",
          "APA",
          "ATO",
          "BA",
          "BG",
          "CAG",
          "CF",
          "COP",
          "CVX",
          "DPZ",
          "DVN",
          "EOG",
          "EQT",
          "FCX",
          "GD",
          "GM",
          "LLY",
          "LUV",
          "META",
          "MMM",
          "MOS",
          "PPL",
          "PXD",
          "SJM",
          "SNA",
          "SO",
          "STLD",
          "TRGP",
          "TSN",
          "TXT",
          "USB",
          "VLO",
          "WFC"
         ],
         "legendgroup": "High",
         "marker": {
          "color": "#FFA15A",
          "symbol": "circle"
         },
         "mode": "markers",
         "name": "High",
         "orientation": "v",
         "showlegend": true,
         "type": "scatter",
         "x": [
          34,
          30,
          39,
          35,
          35,
          34,
          32,
          30,
          35,
          38,
          31,
          37,
          36,
          37,
          32,
          35,
          31,
          32,
          32,
          33,
          34,
          34,
          34,
          37,
          31,
          31,
          33,
          32,
          34,
          37,
          34,
          30,
          30,
          33
         ],
         "xaxis": "x",
         "y": [
          2,
          3,
          2,
          2,
          4,
          3,
          2,
          1,
          2,
          3,
          2,
          2,
          1,
          1,
          4,
          3,
          4,
          2,
          2,
          4,
          3,
          2,
          2,
          1,
          2,
          1,
          2,
          1,
          2,
          4,
          2,
          3,
          2,
          5
         ],
         "yaxis": "y"
        }
       ],
       "layout": {
        "legend": {
         "title": {
          "text": "ESG Risk Level"
         },
         "tracegroupgap": 0
        },
        "margin": {
         "t": 60
        },
        "template": {
         "data": {
          "bar": [
           {
            "error_x": {
             "color": "#2a3f5f"
            },
            "error_y": {
             "color": "#2a3f5f"
            },
            "marker": {
             "line": {
              "color": "#E5ECF6",
              "width": 0.5
             },
             "pattern": {
              "fillmode": "overlay",
              "size": 10,
              "solidity": 0.2
             }
            },
            "type": "bar"
           }
          ],
          "barpolar": [
           {
            "marker": {
             "line": {
              "color": "#E5ECF6",
              "width": 0.5
             },
             "pattern": {
              "fillmode": "overlay",
              "size": 10,
              "solidity": 0.2
             }
            },
            "type": "barpolar"
           }
          ],
          "carpet": [
           {
            "aaxis": {
             "endlinecolor": "#2a3f5f",
             "gridcolor": "white",
             "linecolor": "white",
             "minorgridcolor": "white",
             "startlinecolor": "#2a3f5f"
            },
            "baxis": {
             "endlinecolor": "#2a3f5f",
             "gridcolor": "white",
             "linecolor": "white",
             "minorgridcolor": "white",
             "startlinecolor": "#2a3f5f"
            },
            "type": "carpet"
           }
          ],
          "choropleth": [
           {
            "colorbar": {
             "outlinewidth": 0,
             "ticks": ""
            },
            "type": "choropleth"
           }
          ],
          "contour": [
           {
            "colorbar": {
             "outlinewidth": 0,
             "ticks": ""
            },
            "colorscale": [
             [
              0,
              "#0d0887"
             ],
             [
              0.1111111111111111,
              "#46039f"
             ],
             [
              0.2222222222222222,
              "#7201a8"
             ],
             [
              0.3333333333333333,
              "#9c179e"
             ],
             [
              0.4444444444444444,
              "#bd3786"
             ],
             [
              0.5555555555555556,
              "#d8576b"
             ],
             [
              0.6666666666666666,
              "#ed7953"
             ],
             [
              0.7777777777777778,
              "#fb9f3a"
             ],
             [
              0.8888888888888888,
              "#fdca26"
             ],
             [
              1,
              "#f0f921"
             ]
            ],
            "type": "contour"
           }
          ],
          "contourcarpet": [
           {
            "colorbar": {
             "outlinewidth": 0,
             "ticks": ""
            },
            "type": "contourcarpet"
           }
          ],
          "heatmap": [
           {
            "colorbar": {
             "outlinewidth": 0,
             "ticks": ""
            },
            "colorscale": [
             [
              0,
              "#0d0887"
             ],
             [
              0.1111111111111111,
              "#46039f"
             ],
             [
              0.2222222222222222,
              "#7201a8"
             ],
             [
              0.3333333333333333,
              "#9c179e"
             ],
             [
              0.4444444444444444,
              "#bd3786"
             ],
             [
              0.5555555555555556,
              "#d8576b"
             ],
             [
              0.6666666666666666,
              "#ed7953"
             ],
             [
              0.7777777777777778,
              "#fb9f3a"
             ],
             [
              0.8888888888888888,
              "#fdca26"
             ],
             [
              1,
              "#f0f921"
             ]
            ],
            "type": "heatmap"
           }
          ],
          "heatmapgl": [
           {
            "colorbar": {
             "outlinewidth": 0,
             "ticks": ""
            },
            "colorscale": [
             [
              0,
              "#0d0887"
             ],
             [
              0.1111111111111111,
              "#46039f"
             ],
             [
              0.2222222222222222,
              "#7201a8"
             ],
             [
              0.3333333333333333,
              "#9c179e"
             ],
             [
              0.4444444444444444,
              "#bd3786"
             ],
             [
              0.5555555555555556,
              "#d8576b"
             ],
             [
              0.6666666666666666,
              "#ed7953"
             ],
             [
              0.7777777777777778,
              "#fb9f3a"
             ],
             [
              0.8888888888888888,
              "#fdca26"
             ],
             [
              1,
              "#f0f921"
             ]
            ],
            "type": "heatmapgl"
           }
          ],
          "histogram": [
           {
            "marker": {
             "pattern": {
              "fillmode": "overlay",
              "size": 10,
              "solidity": 0.2
             }
            },
            "type": "histogram"
           }
          ],
          "histogram2d": [
           {
            "colorbar": {
             "outlinewidth": 0,
             "ticks": ""
            },
            "colorscale": [
             [
              0,
              "#0d0887"
             ],
             [
              0.1111111111111111,
              "#46039f"
             ],
             [
              0.2222222222222222,
              "#7201a8"
             ],
             [
              0.3333333333333333,
              "#9c179e"
             ],
             [
              0.4444444444444444,
              "#bd3786"
             ],
             [
              0.5555555555555556,
              "#d8576b"
             ],
             [
              0.6666666666666666,
              "#ed7953"
             ],
             [
              0.7777777777777778,
              "#fb9f3a"
             ],
             [
              0.8888888888888888,
              "#fdca26"
             ],
             [
              1,
              "#f0f921"
             ]
            ],
            "type": "histogram2d"
           }
          ],
          "histogram2dcontour": [
           {
            "colorbar": {
             "outlinewidth": 0,
             "ticks": ""
            },
            "colorscale": [
             [
              0,
              "#0d0887"
             ],
             [
              0.1111111111111111,
              "#46039f"
             ],
             [
              0.2222222222222222,
              "#7201a8"
             ],
             [
              0.3333333333333333,
              "#9c179e"
             ],
             [
              0.4444444444444444,
              "#bd3786"
             ],
             [
              0.5555555555555556,
              "#d8576b"
             ],
             [
              0.6666666666666666,
              "#ed7953"
             ],
             [
              0.7777777777777778,
              "#fb9f3a"
             ],
             [
              0.8888888888888888,
              "#fdca26"
             ],
             [
              1,
              "#f0f921"
             ]
            ],
            "type": "histogram2dcontour"
           }
          ],
          "mesh3d": [
           {
            "colorbar": {
             "outlinewidth": 0,
             "ticks": ""
            },
            "type": "mesh3d"
           }
          ],
          "parcoords": [
           {
            "line": {
             "colorbar": {
              "outlinewidth": 0,
              "ticks": ""
             }
            },
            "type": "parcoords"
           }
          ],
          "pie": [
           {
            "automargin": true,
            "type": "pie"
           }
          ],
          "scatter": [
           {
            "marker": {
             "colorbar": {
              "outlinewidth": 0,
              "ticks": ""
             }
            },
            "type": "scatter"
           }
          ],
          "scatter3d": [
           {
            "line": {
             "colorbar": {
              "outlinewidth": 0,
              "ticks": ""
             }
            },
            "marker": {
             "colorbar": {
              "outlinewidth": 0,
              "ticks": ""
             }
            },
            "type": "scatter3d"
           }
          ],
          "scattercarpet": [
           {
            "marker": {
             "colorbar": {
              "outlinewidth": 0,
              "ticks": ""
             }
            },
            "type": "scattercarpet"
           }
          ],
          "scattergeo": [
           {
            "marker": {
             "colorbar": {
              "outlinewidth": 0,
              "ticks": ""
             }
            },
            "type": "scattergeo"
           }
          ],
          "scattergl": [
           {
            "marker": {
             "colorbar": {
              "outlinewidth": 0,
              "ticks": ""
             }
            },
            "type": "scattergl"
           }
          ],
          "scattermapbox": [
           {
            "marker": {
             "colorbar": {
              "outlinewidth": 0,
              "ticks": ""
             }
            },
            "type": "scattermapbox"
           }
          ],
          "scatterpolar": [
           {
            "marker": {
             "colorbar": {
              "outlinewidth": 0,
              "ticks": ""
             }
            },
            "type": "scatterpolar"
           }
          ],
          "scatterpolargl": [
           {
            "marker": {
             "colorbar": {
              "outlinewidth": 0,
              "ticks": ""
             }
            },
            "type": "scatterpolargl"
           }
          ],
          "scatterternary": [
           {
            "marker": {
             "colorbar": {
              "outlinewidth": 0,
              "ticks": ""
             }
            },
            "type": "scatterternary"
           }
          ],
          "surface": [
           {
            "colorbar": {
             "outlinewidth": 0,
             "ticks": ""
            },
            "colorscale": [
             [
              0,
              "#0d0887"
             ],
             [
              0.1111111111111111,
              "#46039f"
             ],
             [
              0.2222222222222222,
              "#7201a8"
             ],
             [
              0.3333333333333333,
              "#9c179e"
             ],
             [
              0.4444444444444444,
              "#bd3786"
             ],
             [
              0.5555555555555556,
              "#d8576b"
             ],
             [
              0.6666666666666666,
              "#ed7953"
             ],
             [
              0.7777777777777778,
              "#fb9f3a"
             ],
             [
              0.8888888888888888,
              "#fdca26"
             ],
             [
              1,
              "#f0f921"
             ]
            ],
            "type": "surface"
           }
          ],
          "table": [
           {
            "cells": {
             "fill": {
              "color": "#EBF0F8"
             },
             "line": {
              "color": "white"
             }
            },
            "header": {
             "fill": {
              "color": "#C8D4E3"
             },
             "line": {
              "color": "white"
             }
            },
            "type": "table"
           }
          ]
         },
         "layout": {
          "annotationdefaults": {
           "arrowcolor": "#2a3f5f",
           "arrowhead": 0,
           "arrowwidth": 1
          },
          "autotypenumbers": "strict",
          "coloraxis": {
           "colorbar": {
            "outlinewidth": 0,
            "ticks": ""
           }
          },
          "colorscale": {
           "diverging": [
            [
             0,
             "#8e0152"
            ],
            [
             0.1,
             "#c51b7d"
            ],
            [
             0.2,
             "#de77ae"
            ],
            [
             0.3,
             "#f1b6da"
            ],
            [
             0.4,
             "#fde0ef"
            ],
            [
             0.5,
             "#f7f7f7"
            ],
            [
             0.6,
             "#e6f5d0"
            ],
            [
             0.7,
             "#b8e186"
            ],
            [
             0.8,
             "#7fbc41"
            ],
            [
             0.9,
             "#4d9221"
            ],
            [
             1,
             "#276419"
            ]
           ],
           "sequential": [
            [
             0,
             "#0d0887"
            ],
            [
             0.1111111111111111,
             "#46039f"
            ],
            [
             0.2222222222222222,
             "#7201a8"
            ],
            [
             0.3333333333333333,
             "#9c179e"
            ],
            [
             0.4444444444444444,
             "#bd3786"
            ],
            [
             0.5555555555555556,
             "#d8576b"
            ],
            [
             0.6666666666666666,
             "#ed7953"
            ],
            [
             0.7777777777777778,
             "#fb9f3a"
            ],
            [
             0.8888888888888888,
             "#fdca26"
            ],
            [
             1,
             "#f0f921"
            ]
           ],
           "sequentialminus": [
            [
             0,
             "#0d0887"
            ],
            [
             0.1111111111111111,
             "#46039f"
            ],
            [
             0.2222222222222222,
             "#7201a8"
            ],
            [
             0.3333333333333333,
             "#9c179e"
            ],
            [
             0.4444444444444444,
             "#bd3786"
            ],
            [
             0.5555555555555556,
             "#d8576b"
            ],
            [
             0.6666666666666666,
             "#ed7953"
            ],
            [
             0.7777777777777778,
             "#fb9f3a"
            ],
            [
             0.8888888888888888,
             "#fdca26"
            ],
            [
             1,
             "#f0f921"
            ]
           ]
          },
          "colorway": [
           "#636efa",
           "#EF553B",
           "#00cc96",
           "#ab63fa",
           "#FFA15A",
           "#19d3f3",
           "#FF6692",
           "#B6E880",
           "#FF97FF",
           "#FECB52"
          ],
          "font": {
           "color": "#2a3f5f"
          },
          "geo": {
           "bgcolor": "white",
           "lakecolor": "white",
           "landcolor": "#E5ECF6",
           "showlakes": true,
           "showland": true,
           "subunitcolor": "white"
          },
          "hoverlabel": {
           "align": "left"
          },
          "hovermode": "closest",
          "mapbox": {
           "style": "light"
          },
          "paper_bgcolor": "white",
          "plot_bgcolor": "#E5ECF6",
          "polar": {
           "angularaxis": {
            "gridcolor": "white",
            "linecolor": "white",
            "ticks": ""
           },
           "bgcolor": "#E5ECF6",
           "radialaxis": {
            "gridcolor": "white",
            "linecolor": "white",
            "ticks": ""
           }
          },
          "scene": {
           "xaxis": {
            "backgroundcolor": "#E5ECF6",
            "gridcolor": "white",
            "gridwidth": 2,
            "linecolor": "white",
            "showbackground": true,
            "ticks": "",
            "zerolinecolor": "white"
           },
           "yaxis": {
            "backgroundcolor": "#E5ECF6",
            "gridcolor": "white",
            "gridwidth": 2,
            "linecolor": "white",
            "showbackground": true,
            "ticks": "",
            "zerolinecolor": "white"
           },
           "zaxis": {
            "backgroundcolor": "#E5ECF6",
            "gridcolor": "white",
            "gridwidth": 2,
            "linecolor": "white",
            "showbackground": true,
            "ticks": "",
            "zerolinecolor": "white"
           }
          },
          "shapedefaults": {
           "line": {
            "color": "#2a3f5f"
           }
          },
          "ternary": {
           "aaxis": {
            "gridcolor": "white",
            "linecolor": "white",
            "ticks": ""
           },
           "baxis": {
            "gridcolor": "white",
            "linecolor": "white",
            "ticks": ""
           },
           "bgcolor": "#E5ECF6",
           "caxis": {
            "gridcolor": "white",
            "linecolor": "white",
            "ticks": ""
           }
          },
          "title": {
           "x": 0.05
          },
          "xaxis": {
           "automargin": true,
           "gridcolor": "white",
           "linecolor": "white",
           "ticks": "",
           "title": {
            "standoff": 15
           },
           "zerolinecolor": "white",
           "zerolinewidth": 2
          },
          "yaxis": {
           "automargin": true,
           "gridcolor": "white",
           "linecolor": "white",
           "ticks": "",
           "title": {
            "standoff": 15
           },
           "zerolinecolor": "white",
           "zerolinewidth": 2
          }
         }
        },
        "xaxis": {
         "anchor": "y",
         "domain": [
          0,
          1
         ],
         "title": {
          "text": "Total ESG Risk score"
         }
        },
        "yaxis": {
         "anchor": "x",
         "domain": [
          0,
          1
         ],
         "title": {
          "text": "Controversy Score"
         }
        }
       }
      }
     },
     "metadata": {},
     "output_type": "display_data"
    }
   ],
   "source": [
    "from plotly.express import scatter\n",
    "scatter(data_frame=df1_cleaned, x='Total ESG Risk score', y='Controversy Score', color='ESG Risk Level', hover_name='Symbol').show()"
   ]
  },
  {
   "cell_type": "code",
   "execution_count": 34,
   "metadata": {},
   "outputs": [
    {
     "data": {
      "application/vnd.plotly.v1+json": {
       "config": {
        "plotlyServerURL": "https://plot.ly"
       },
       "data": [
        {
         "hovertemplate": "<b>%{hovertext}</b><br><br>Sector=Healthcare<br>Total ESG Risk score=%{x}<br>Controversy Score=%{y}<extra></extra>",
         "hovertext": [
          "A",
          "ABBV",
          "ABC",
          "ABT",
          "AMGN",
          "BAX",
          "BDX",
          "BIIB",
          "BIO",
          "BMY",
          "BSX",
          "CAH",
          "CI",
          "CNC",
          "COO",
          "CVS",
          "DGX",
          "DHR",
          "ELV",
          "EW",
          "GILD",
          "HCA",
          "HOLX",
          "HSIC",
          "HUM",
          "IDXX",
          "ILMN",
          "INCY",
          "IQV",
          "ISRG",
          "JNJ",
          "LH",
          "LLY",
          "MCK",
          "MDT",
          "MRK",
          "MTD",
          "PFE",
          "REGN",
          "SYK",
          "TMO",
          "UHS",
          "UNH",
          "VRTX",
          "WAT",
          "WBA",
          "XRAY",
          "ZTS"
         ],
         "legendgroup": "Healthcare",
         "marker": {
          "color": "#636efa",
          "symbol": "circle"
         },
         "mode": "markers",
         "name": "Healthcare",
         "orientation": "v",
         "showlegend": true,
         "type": "scatter",
         "x": [
          15,
          28,
          12,
          25,
          22,
          24,
          27,
          21,
          17,
          23,
          26,
          12,
          12,
          21,
          20,
          23,
          21,
          12,
          11,
          19,
          22,
          28,
          28,
          13,
          22,
          19,
          11,
          24,
          19,
          24,
          25,
          19,
          32,
          15,
          23,
          22,
          13,
          25,
          18,
          29,
          14,
          33,
          18,
          23,
          17,
          18,
          16,
          18
         ],
         "xaxis": "x",
         "y": [
          1,
          3,
          3,
          3,
          3,
          3,
          3,
          3,
          1,
          2,
          2,
          3,
          2,
          2,
          2,
          3,
          3,
          2,
          2,
          2,
          2,
          2,
          1,
          2,
          2,
          1,
          3,
          1,
          2,
          1,
          4,
          2,
          2,
          3,
          3,
          3,
          0,
          3,
          2,
          3,
          3,
          3,
          3,
          2,
          0,
          3,
          1,
          1
         ],
         "yaxis": "y"
        },
        {
         "hovertemplate": "<b>%{hovertext}</b><br><br>Sector=Consumer Cyclical<br>Total ESG Risk score=%{x}<br>Controversy Score=%{y}<extra></extra>",
         "hovertext": [
          "AAP",
          "AMZN",
          "APTV",
          "AVY",
          "AZO",
          "BALL",
          "BBWI",
          "BBY",
          "BKNG",
          "BWA",
          "CCL",
          "CMG",
          "DHI",
          "DPZ",
          "DRI",
          "EBAY",
          "EXPE",
          "F",
          "GM",
          "GPC",
          "HD",
          "HLT",
          "IP",
          "KMX",
          "LEN",
          "LKQ",
          "LOW",
          "LVS",
          "MAR",
          "MCD",
          "MGM",
          "MHK",
          "NKE",
          "NVR",
          "ORLY",
          "PHM",
          "PKG",
          "RL",
          "ROST",
          "SBUX",
          "TJX",
          "TPR",
          "TSCO",
          "TSLA",
          "ULTA",
          "VFC",
          "WHR",
          "YUM"
         ],
         "legendgroup": "Consumer Cyclical",
         "marker": {
          "color": "#EF553B",
          "symbol": "circle"
         },
         "mode": "markers",
         "name": "Consumer Cyclical",
         "orientation": "v",
         "showlegend": true,
         "type": "scatter",
         "x": [
          12,
          30,
          12,
          15,
          11,
          11,
          16,
          14,
          22,
          13,
          24,
          24,
          22,
          31,
          28,
          17,
          26,
          30,
          31,
          13,
          13,
          17,
          24,
          12,
          23,
          11,
          11,
          18,
          22,
          25,
          25,
          14,
          17,
          20,
          13,
          21,
          17,
          13,
          16,
          25,
          14,
          13,
          14,
          29,
          15,
          13,
          16,
          21
         ],
         "xaxis": "x",
         "y": [
          2,
          3,
          1,
          1,
          2,
          2,
          2,
          2,
          3,
          2,
          3,
          2,
          2,
          2,
          2,
          2,
          2,
          3,
          4,
          2,
          2,
          2,
          3,
          2,
          2,
          2,
          2,
          2,
          3,
          3,
          2,
          2,
          3,
          1,
          1,
          2,
          1,
          2,
          2,
          3,
          2,
          2,
          2,
          3,
          2,
          2,
          2,
          2
         ],
         "yaxis": "y"
        },
        {
         "hovertemplate": "<b>%{hovertext}</b><br><br>Sector=Technology<br>Total ESG Risk score=%{x}<br>Controversy Score=%{y}<extra></extra>",
         "hovertext": [
          "AAPL",
          "ACN",
          "ADBE",
          "ADI",
          "ADSK",
          "AKAM",
          "AMAT",
          "ANET",
          "ANSS",
          "APH",
          "AVGO",
          "BR",
          "CDNS",
          "CRM",
          "CSCO",
          "CTSH",
          "DXC",
          "FFIV",
          "FIS",
          "FLT",
          "FTNT",
          "FTV",
          "GEN",
          "GLW",
          "GRMN",
          "HPE",
          "HPQ",
          "IBM",
          "INTC",
          "INTU",
          "JKHY",
          "JNPR",
          "KLAC",
          "LDOS",
          "LRCX",
          "MCHP",
          "MSFT",
          "MSI",
          "MU",
          "NOW",
          "NTAP",
          "NVDA",
          "NXPI",
          "ORCL",
          "PANW",
          "PTC",
          "QCOM",
          "ROP",
          "SNPS",
          "STX",
          "SWKS",
          "TEL",
          "TER",
          "TRMB",
          "TXN",
          "VRSN",
          "WDC"
         ],
         "legendgroup": "Technology",
         "marker": {
          "color": "#00cc96",
          "symbol": "circle"
         },
         "mode": "markers",
         "name": "Technology",
         "orientation": "v",
         "showlegend": true,
         "type": "scatter",
         "x": [
          17,
          10,
          12,
          24,
          16,
          17,
          12,
          16,
          13,
          21,
          22,
          16,
          12,
          13,
          12,
          14,
          16,
          19,
          18,
          18,
          19,
          35,
          15,
          19,
          19,
          12,
          11,
          15,
          17,
          16,
          15,
          17,
          17,
          12,
          13,
          31,
          15,
          14,
          17,
          16,
          15,
          13,
          22,
          14,
          14,
          19,
          17,
          23,
          13,
          11,
          28,
          16,
          16,
          13,
          20,
          21,
          11
         ],
         "xaxis": "x",
         "y": [
          3,
          2,
          1,
          0,
          0,
          1,
          1,
          1,
          0,
          2,
          3,
          2,
          0,
          2,
          2,
          2,
          2,
          1,
          1,
          2,
          1,
          1,
          2,
          2,
          2,
          2,
          2,
          2,
          3,
          2,
          0,
          1,
          0,
          2,
          1,
          1,
          3,
          3,
          2,
          1,
          1,
          2,
          1,
          2,
          1,
          0,
          4,
          0,
          0,
          1,
          1,
          0,
          0,
          0,
          2,
          1,
          1
         ],
         "yaxis": "y"
        },
        {
         "hovertemplate": "<b>%{hovertext}</b><br><br>Sector=Consumer Defensive<br>Total ESG Risk score=%{x}<br>Controversy Score=%{y}<extra></extra>",
         "hovertext": [
          "ADM",
          "BG",
          "CAG",
          "CHD",
          "CL",
          "CLX",
          "COST",
          "DG",
          "DLTR",
          "EL",
          "HRL",
          "HSY",
          "K",
          "KHC",
          "KO",
          "KR",
          "MDLZ",
          "MKC",
          "MO",
          "NWL",
          "PEP",
          "PG",
          "PM",
          "SJM",
          "SYY",
          "TAP",
          "TGT",
          "TSN",
          "WMT"
         ],
         "legendgroup": "Consumer Defensive",
         "marker": {
          "color": "#ab63fa",
          "symbol": "circle"
         },
         "mode": "markers",
         "name": "Consumer Defensive",
         "orientation": "v",
         "showlegend": true,
         "type": "scatter",
         "x": [
          36,
          34,
          32,
          20,
          22,
          21,
          24,
          17,
          15,
          26,
          30,
          27,
          27,
          35,
          23,
          21,
          24,
          27,
          24,
          14,
          16,
          27,
          24,
          31,
          12,
          21,
          15,
          37,
          25
         ],
         "xaxis": "x",
         "y": [
          3,
          3,
          2,
          2,
          3,
          2,
          3,
          2,
          2,
          2,
          3,
          3,
          2,
          3,
          3,
          3,
          3,
          2,
          2,
          2,
          3,
          3,
          3,
          2,
          2,
          2,
          3,
          4,
          4
         ],
         "yaxis": "y"
        },
        {
         "hovertemplate": "<b>%{hovertext}</b><br><br>Sector=Industrials<br>Total ESG Risk score=%{x}<br>Controversy Score=%{y}<extra></extra>",
         "hovertext": [
          "ADP",
          "AME",
          "BA",
          "CMI",
          "CPRT",
          "CSX",
          "CTAS",
          "DE",
          "DOV",
          "EMR",
          "ETN",
          "EXPD",
          "FAST",
          "FDX",
          "GD",
          "GE",
          "GPN",
          "GWW",
          "HON",
          "IEX",
          "ITW",
          "J",
          "JBHT",
          "JCI",
          "LMT",
          "LUV",
          "MAS",
          "MMM",
          "NDSN",
          "NOC",
          "NSC",
          "PAYX",
          "PH",
          "PWR",
          "RHI",
          "ROK",
          "RSG",
          "SNA",
          "SWK",
          "TDG",
          "TT",
          "TXT",
          "UAL",
          "UNP",
          "UPS",
          "URI",
          "VRSK",
          "WAB",
          "WM",
          "XYL"
         ],
         "legendgroup": "Industrials",
         "marker": {
          "color": "#FFA15A",
          "symbol": "circle"
         },
         "mode": "markers",
         "name": "Industrials",
         "orientation": "v",
         "showlegend": true,
         "type": "scatter",
         "x": [
          14,
          24,
          35,
          19,
          18,
          20,
          18,
          17,
          25,
          29,
          18,
          16,
          26,
          20,
          35,
          41,
          19,
          15,
          29,
          27,
          20,
          22,
          14,
          15,
          28,
          32,
          22,
          34,
          27,
          27,
          23,
          17,
          29,
          37,
          11,
          18,
          21,
          31,
          26,
          39,
          16,
          34,
          29,
          25,
          20,
          18,
          19,
          23,
          17,
          16
         ],
         "xaxis": "x",
         "y": [
          1,
          1,
          4,
          2,
          1,
          3,
          2,
          2,
          1,
          2,
          1,
          2,
          2,
          2,
          3,
          3,
          1,
          1,
          3,
          0,
          2,
          3,
          1,
          3,
          3,
          2,
          1,
          3,
          1,
          2,
          2,
          0,
          2,
          2,
          1,
          2,
          3,
          1,
          2,
          2,
          2,
          2,
          2,
          2,
          2,
          1,
          1,
          1,
          2,
          1
         ],
         "yaxis": "y"
        },
        {
         "hovertemplate": "<b>%{hovertext}</b><br><br>Sector=Utilities<br>Total ESG Risk score=%{x}<br>Controversy Score=%{y}<extra></extra>",
         "hovertext": [
          "AEE",
          "AES",
          "ATO",
          "CMS",
          "CNP",
          "D",
          "DTE",
          "DUK",
          "ED",
          "ES",
          "ETR",
          "EXC",
          "FE",
          "LNT",
          "NEE",
          "NRG",
          "PCG",
          "PNW",
          "PPL",
          "SO",
          "XEL"
         ],
         "legendgroup": "Utilities",
         "marker": {
          "color": "#19d3f3",
          "symbol": "circle"
         },
         "mode": "markers",
         "name": "Utilities",
         "orientation": "v",
         "showlegend": true,
         "type": "scatter",
         "x": [
          30,
          34,
          35,
          21,
          26,
          25,
          30,
          28,
          23,
          19,
          30,
          24,
          30,
          22,
          28,
          32,
          35,
          31,
          34,
          33,
          24
         ],
         "xaxis": "x",
         "y": [
          2,
          2,
          2,
          2,
          2,
          2,
          2,
          2,
          3,
          2,
          2,
          3,
          3,
          1,
          2,
          2,
          5,
          1,
          2,
          2,
          2
         ],
         "yaxis": "y"
        },
        {
         "hovertemplate": "<b>%{hovertext}</b><br><br>Sector=Financial Services<br>Total ESG Risk score=%{x}<br>Controversy Score=%{y}<extra></extra>",
         "hovertext": [
          "AFL",
          "AJG",
          "ALL",
          "AMP",
          "AXP",
          "BAC",
          "BEN",
          "BK",
          "BLK",
          "BRO",
          "C",
          "CB",
          "CBOE",
          "CFG",
          "CINF",
          "CME",
          "FDS",
          "FITB",
          "GS",
          "HBAN",
          "HIG",
          "ICE",
          "JPM",
          "L",
          "LNC",
          "MA",
          "MCO",
          "MET",
          "MMC",
          "MS",
          "MSCI",
          "NDAQ",
          "NTRS",
          "PFG",
          "PGR",
          "PNC",
          "PRU",
          "PYPL",
          "RF",
          "RJF",
          "SCHW",
          "SPGI",
          "SYF",
          "TROW",
          "TRV",
          "USB",
          "V",
          "WFC",
          "WRB",
          "WTW"
         ],
         "legendgroup": "Financial Services",
         "marker": {
          "color": "#FF6692",
          "symbol": "circle"
         },
         "mode": "markers",
         "name": "Financial Services",
         "orientation": "v",
         "showlegend": true,
         "type": "scatter",
         "x": [
          17,
          21,
          19,
          23,
          18,
          27,
          18,
          21,
          21,
          21,
          27,
          24,
          21,
          23,
          26,
          15,
          20,
          17,
          26,
          20,
          16,
          16,
          29,
          16,
          18,
          17,
          11,
          15,
          19,
          22,
          16,
          12,
          24,
          17,
          21,
          22,
          16,
          16,
          16,
          24,
          24,
          14,
          17,
          17,
          21,
          30,
          16,
          33,
          22,
          19
         ],
         "xaxis": "x",
         "y": [
          2,
          2,
          2,
          2,
          2,
          3,
          2,
          3,
          2,
          1,
          4,
          2,
          1,
          2,
          1,
          1,
          1,
          2,
          3,
          2,
          1,
          2,
          3,
          2,
          2,
          4,
          2,
          2,
          2,
          3,
          0,
          1,
          2,
          1,
          1,
          3,
          1,
          2,
          2,
          2,
          2,
          1,
          2,
          1,
          1,
          3,
          3,
          5,
          1,
          2
         ],
         "yaxis": "y"
        },
        {
         "hovertemplate": "<b>%{hovertext}</b><br><br>Sector=Real Estate<br>Total ESG Risk score=%{x}<br>Controversy Score=%{y}<extra></extra>",
         "hovertext": [
          "AMT",
          "ARE",
          "AVB",
          "BXP",
          "CCI",
          "CPT",
          "CSGP",
          "DLR",
          "EQIX",
          "EQR",
          "ESS",
          "EXR",
          "FRT",
          "HST",
          "IRM",
          "KIM",
          "MAA",
          "O",
          "PLD",
          "PSA",
          "REG",
          "SBAC",
          "SPG",
          "UDR",
          "VTR",
          "WELL",
          "WY"
         ],
         "legendgroup": "Real Estate",
         "marker": {
          "color": "#B6E880",
          "symbol": "circle"
         },
         "mode": "markers",
         "name": "Real Estate",
         "orientation": "v",
         "showlegend": true,
         "type": "scatter",
         "x": [
          11,
          14,
          11,
          13,
          13,
          16,
          27,
          13,
          12,
          11,
          12,
          14,
          12,
          14,
          15,
          12,
          15,
          15,
          9,
          12,
          11,
          12,
          14,
          12,
          13,
          12,
          18
         ],
         "xaxis": "x",
         "y": [
          1,
          0,
          1,
          1,
          0,
          1,
          1,
          0,
          1,
          1,
          1,
          1,
          1,
          1,
          2,
          0,
          1,
          2,
          1,
          1,
          0,
          0,
          1,
          1,
          0,
          1,
          2
         ],
         "yaxis": "y"
        },
        {
         "hovertemplate": "<b>%{hovertext}</b><br><br>Sector=Energy<br>Total ESG Risk score=%{x}<br>Controversy Score=%{y}<extra></extra>",
         "hovertext": [
          "APA",
          "COP",
          "CTRA",
          "CVX",
          "DVN",
          "EOG",
          "EQT",
          "HAL",
          "HES",
          "KMI",
          "MPC",
          "MRO",
          "PSX",
          "PXD",
          "SLB",
          "TRGP",
          "VLO"
         ],
         "legendgroup": "Energy",
         "marker": {
          "color": "#FF97FF",
          "symbol": "circle"
         },
         "mode": "markers",
         "name": "Energy",
         "orientation": "v",
         "showlegend": true,
         "type": "scatter",
         "x": [
          39,
          35,
          46,
          38,
          37,
          36,
          37,
          24,
          36,
          19,
          29,
          42,
          29,
          37,
          22,
          34,
          30
         ],
         "xaxis": "x",
         "y": [
          2,
          2,
          2,
          3,
          2,
          1,
          1,
          2,
          2,
          2,
          3,
          2,
          3,
          1,
          1,
          2,
          2
         ],
         "yaxis": "y"
        },
        {
         "hovertemplate": "<b>%{hovertext}</b><br><br>Sector=Basic Materials<br>Total ESG Risk score=%{x}<br>Controversy Score=%{y}<extra></extra>",
         "hovertext": [
          "APD",
          "CE",
          "CF",
          "DD",
          "FCX",
          "FMC",
          "IFF",
          "MLM",
          "MOS",
          "NEM",
          "NUE",
          "PPG",
          "SHW",
          "STLD",
          "VMC"
         ],
         "legendgroup": "Basic Materials",
         "marker": {
          "color": "#FECB52",
          "symbol": "circle"
         },
         "mode": "markers",
         "name": "Basic Materials",
         "orientation": "v",
         "showlegend": true,
         "type": "scatter",
         "x": [
          11,
          29,
          30,
          29,
          32,
          33,
          22,
          32,
          34,
          20,
          32,
          24,
          29,
          32,
          29
         ],
         "xaxis": "x",
         "y": [
          1,
          2,
          1,
          3,
          4,
          2,
          2,
          2,
          2,
          3,
          2,
          1,
          2,
          1,
          2
         ],
         "yaxis": "y"
        },
        {
         "hovertemplate": "<b>%{hovertext}</b><br><br>Sector=Communication Services<br>Total ESG Risk score=%{x}<br>Controversy Score=%{y}<extra></extra>",
         "hovertext": [
          "ATVI",
          "CMCSA",
          "DIS",
          "EA",
          "GOOGL",
          "IPG",
          "META",
          "NFLX",
          "NWSA",
          "OMC",
          "T",
          "TMUS",
          "VZ"
         ],
         "legendgroup": "Communication Services",
         "marker": {
          "color": "#636efa",
          "symbol": "circle"
         },
         "mode": "markers",
         "name": "Communication Services",
         "orientation": "v",
         "showlegend": true,
         "type": "scatter",
         "x": [
          19,
          25,
          15,
          10,
          24,
          10,
          33,
          16,
          12,
          16,
          22,
          26,
          18
         ],
         "xaxis": "x",
         "y": [
          4,
          2,
          2,
          2,
          4,
          1,
          4,
          2,
          2,
          1,
          3,
          3,
          3
         ],
         "yaxis": "y"
        }
       ],
       "layout": {
        "legend": {
         "title": {
          "text": "Sector"
         },
         "tracegroupgap": 0
        },
        "margin": {
         "t": 60
        },
        "template": {
         "data": {
          "bar": [
           {
            "error_x": {
             "color": "#2a3f5f"
            },
            "error_y": {
             "color": "#2a3f5f"
            },
            "marker": {
             "line": {
              "color": "#E5ECF6",
              "width": 0.5
             },
             "pattern": {
              "fillmode": "overlay",
              "size": 10,
              "solidity": 0.2
             }
            },
            "type": "bar"
           }
          ],
          "barpolar": [
           {
            "marker": {
             "line": {
              "color": "#E5ECF6",
              "width": 0.5
             },
             "pattern": {
              "fillmode": "overlay",
              "size": 10,
              "solidity": 0.2
             }
            },
            "type": "barpolar"
           }
          ],
          "carpet": [
           {
            "aaxis": {
             "endlinecolor": "#2a3f5f",
             "gridcolor": "white",
             "linecolor": "white",
             "minorgridcolor": "white",
             "startlinecolor": "#2a3f5f"
            },
            "baxis": {
             "endlinecolor": "#2a3f5f",
             "gridcolor": "white",
             "linecolor": "white",
             "minorgridcolor": "white",
             "startlinecolor": "#2a3f5f"
            },
            "type": "carpet"
           }
          ],
          "choropleth": [
           {
            "colorbar": {
             "outlinewidth": 0,
             "ticks": ""
            },
            "type": "choropleth"
           }
          ],
          "contour": [
           {
            "colorbar": {
             "outlinewidth": 0,
             "ticks": ""
            },
            "colorscale": [
             [
              0,
              "#0d0887"
             ],
             [
              0.1111111111111111,
              "#46039f"
             ],
             [
              0.2222222222222222,
              "#7201a8"
             ],
             [
              0.3333333333333333,
              "#9c179e"
             ],
             [
              0.4444444444444444,
              "#bd3786"
             ],
             [
              0.5555555555555556,
              "#d8576b"
             ],
             [
              0.6666666666666666,
              "#ed7953"
             ],
             [
              0.7777777777777778,
              "#fb9f3a"
             ],
             [
              0.8888888888888888,
              "#fdca26"
             ],
             [
              1,
              "#f0f921"
             ]
            ],
            "type": "contour"
           }
          ],
          "contourcarpet": [
           {
            "colorbar": {
             "outlinewidth": 0,
             "ticks": ""
            },
            "type": "contourcarpet"
           }
          ],
          "heatmap": [
           {
            "colorbar": {
             "outlinewidth": 0,
             "ticks": ""
            },
            "colorscale": [
             [
              0,
              "#0d0887"
             ],
             [
              0.1111111111111111,
              "#46039f"
             ],
             [
              0.2222222222222222,
              "#7201a8"
             ],
             [
              0.3333333333333333,
              "#9c179e"
             ],
             [
              0.4444444444444444,
              "#bd3786"
             ],
             [
              0.5555555555555556,
              "#d8576b"
             ],
             [
              0.6666666666666666,
              "#ed7953"
             ],
             [
              0.7777777777777778,
              "#fb9f3a"
             ],
             [
              0.8888888888888888,
              "#fdca26"
             ],
             [
              1,
              "#f0f921"
             ]
            ],
            "type": "heatmap"
           }
          ],
          "heatmapgl": [
           {
            "colorbar": {
             "outlinewidth": 0,
             "ticks": ""
            },
            "colorscale": [
             [
              0,
              "#0d0887"
             ],
             [
              0.1111111111111111,
              "#46039f"
             ],
             [
              0.2222222222222222,
              "#7201a8"
             ],
             [
              0.3333333333333333,
              "#9c179e"
             ],
             [
              0.4444444444444444,
              "#bd3786"
             ],
             [
              0.5555555555555556,
              "#d8576b"
             ],
             [
              0.6666666666666666,
              "#ed7953"
             ],
             [
              0.7777777777777778,
              "#fb9f3a"
             ],
             [
              0.8888888888888888,
              "#fdca26"
             ],
             [
              1,
              "#f0f921"
             ]
            ],
            "type": "heatmapgl"
           }
          ],
          "histogram": [
           {
            "marker": {
             "pattern": {
              "fillmode": "overlay",
              "size": 10,
              "solidity": 0.2
             }
            },
            "type": "histogram"
           }
          ],
          "histogram2d": [
           {
            "colorbar": {
             "outlinewidth": 0,
             "ticks": ""
            },
            "colorscale": [
             [
              0,
              "#0d0887"
             ],
             [
              0.1111111111111111,
              "#46039f"
             ],
             [
              0.2222222222222222,
              "#7201a8"
             ],
             [
              0.3333333333333333,
              "#9c179e"
             ],
             [
              0.4444444444444444,
              "#bd3786"
             ],
             [
              0.5555555555555556,
              "#d8576b"
             ],
             [
              0.6666666666666666,
              "#ed7953"
             ],
             [
              0.7777777777777778,
              "#fb9f3a"
             ],
             [
              0.8888888888888888,
              "#fdca26"
             ],
             [
              1,
              "#f0f921"
             ]
            ],
            "type": "histogram2d"
           }
          ],
          "histogram2dcontour": [
           {
            "colorbar": {
             "outlinewidth": 0,
             "ticks": ""
            },
            "colorscale": [
             [
              0,
              "#0d0887"
             ],
             [
              0.1111111111111111,
              "#46039f"
             ],
             [
              0.2222222222222222,
              "#7201a8"
             ],
             [
              0.3333333333333333,
              "#9c179e"
             ],
             [
              0.4444444444444444,
              "#bd3786"
             ],
             [
              0.5555555555555556,
              "#d8576b"
             ],
             [
              0.6666666666666666,
              "#ed7953"
             ],
             [
              0.7777777777777778,
              "#fb9f3a"
             ],
             [
              0.8888888888888888,
              "#fdca26"
             ],
             [
              1,
              "#f0f921"
             ]
            ],
            "type": "histogram2dcontour"
           }
          ],
          "mesh3d": [
           {
            "colorbar": {
             "outlinewidth": 0,
             "ticks": ""
            },
            "type": "mesh3d"
           }
          ],
          "parcoords": [
           {
            "line": {
             "colorbar": {
              "outlinewidth": 0,
              "ticks": ""
             }
            },
            "type": "parcoords"
           }
          ],
          "pie": [
           {
            "automargin": true,
            "type": "pie"
           }
          ],
          "scatter": [
           {
            "marker": {
             "colorbar": {
              "outlinewidth": 0,
              "ticks": ""
             }
            },
            "type": "scatter"
           }
          ],
          "scatter3d": [
           {
            "line": {
             "colorbar": {
              "outlinewidth": 0,
              "ticks": ""
             }
            },
            "marker": {
             "colorbar": {
              "outlinewidth": 0,
              "ticks": ""
             }
            },
            "type": "scatter3d"
           }
          ],
          "scattercarpet": [
           {
            "marker": {
             "colorbar": {
              "outlinewidth": 0,
              "ticks": ""
             }
            },
            "type": "scattercarpet"
           }
          ],
          "scattergeo": [
           {
            "marker": {
             "colorbar": {
              "outlinewidth": 0,
              "ticks": ""
             }
            },
            "type": "scattergeo"
           }
          ],
          "scattergl": [
           {
            "marker": {
             "colorbar": {
              "outlinewidth": 0,
              "ticks": ""
             }
            },
            "type": "scattergl"
           }
          ],
          "scattermapbox": [
           {
            "marker": {
             "colorbar": {
              "outlinewidth": 0,
              "ticks": ""
             }
            },
            "type": "scattermapbox"
           }
          ],
          "scatterpolar": [
           {
            "marker": {
             "colorbar": {
              "outlinewidth": 0,
              "ticks": ""
             }
            },
            "type": "scatterpolar"
           }
          ],
          "scatterpolargl": [
           {
            "marker": {
             "colorbar": {
              "outlinewidth": 0,
              "ticks": ""
             }
            },
            "type": "scatterpolargl"
           }
          ],
          "scatterternary": [
           {
            "marker": {
             "colorbar": {
              "outlinewidth": 0,
              "ticks": ""
             }
            },
            "type": "scatterternary"
           }
          ],
          "surface": [
           {
            "colorbar": {
             "outlinewidth": 0,
             "ticks": ""
            },
            "colorscale": [
             [
              0,
              "#0d0887"
             ],
             [
              0.1111111111111111,
              "#46039f"
             ],
             [
              0.2222222222222222,
              "#7201a8"
             ],
             [
              0.3333333333333333,
              "#9c179e"
             ],
             [
              0.4444444444444444,
              "#bd3786"
             ],
             [
              0.5555555555555556,
              "#d8576b"
             ],
             [
              0.6666666666666666,
              "#ed7953"
             ],
             [
              0.7777777777777778,
              "#fb9f3a"
             ],
             [
              0.8888888888888888,
              "#fdca26"
             ],
             [
              1,
              "#f0f921"
             ]
            ],
            "type": "surface"
           }
          ],
          "table": [
           {
            "cells": {
             "fill": {
              "color": "#EBF0F8"
             },
             "line": {
              "color": "white"
             }
            },
            "header": {
             "fill": {
              "color": "#C8D4E3"
             },
             "line": {
              "color": "white"
             }
            },
            "type": "table"
           }
          ]
         },
         "layout": {
          "annotationdefaults": {
           "arrowcolor": "#2a3f5f",
           "arrowhead": 0,
           "arrowwidth": 1
          },
          "autotypenumbers": "strict",
          "coloraxis": {
           "colorbar": {
            "outlinewidth": 0,
            "ticks": ""
           }
          },
          "colorscale": {
           "diverging": [
            [
             0,
             "#8e0152"
            ],
            [
             0.1,
             "#c51b7d"
            ],
            [
             0.2,
             "#de77ae"
            ],
            [
             0.3,
             "#f1b6da"
            ],
            [
             0.4,
             "#fde0ef"
            ],
            [
             0.5,
             "#f7f7f7"
            ],
            [
             0.6,
             "#e6f5d0"
            ],
            [
             0.7,
             "#b8e186"
            ],
            [
             0.8,
             "#7fbc41"
            ],
            [
             0.9,
             "#4d9221"
            ],
            [
             1,
             "#276419"
            ]
           ],
           "sequential": [
            [
             0,
             "#0d0887"
            ],
            [
             0.1111111111111111,
             "#46039f"
            ],
            [
             0.2222222222222222,
             "#7201a8"
            ],
            [
             0.3333333333333333,
             "#9c179e"
            ],
            [
             0.4444444444444444,
             "#bd3786"
            ],
            [
             0.5555555555555556,
             "#d8576b"
            ],
            [
             0.6666666666666666,
             "#ed7953"
            ],
            [
             0.7777777777777778,
             "#fb9f3a"
            ],
            [
             0.8888888888888888,
             "#fdca26"
            ],
            [
             1,
             "#f0f921"
            ]
           ],
           "sequentialminus": [
            [
             0,
             "#0d0887"
            ],
            [
             0.1111111111111111,
             "#46039f"
            ],
            [
             0.2222222222222222,
             "#7201a8"
            ],
            [
             0.3333333333333333,
             "#9c179e"
            ],
            [
             0.4444444444444444,
             "#bd3786"
            ],
            [
             0.5555555555555556,
             "#d8576b"
            ],
            [
             0.6666666666666666,
             "#ed7953"
            ],
            [
             0.7777777777777778,
             "#fb9f3a"
            ],
            [
             0.8888888888888888,
             "#fdca26"
            ],
            [
             1,
             "#f0f921"
            ]
           ]
          },
          "colorway": [
           "#636efa",
           "#EF553B",
           "#00cc96",
           "#ab63fa",
           "#FFA15A",
           "#19d3f3",
           "#FF6692",
           "#B6E880",
           "#FF97FF",
           "#FECB52"
          ],
          "font": {
           "color": "#2a3f5f"
          },
          "geo": {
           "bgcolor": "white",
           "lakecolor": "white",
           "landcolor": "#E5ECF6",
           "showlakes": true,
           "showland": true,
           "subunitcolor": "white"
          },
          "hoverlabel": {
           "align": "left"
          },
          "hovermode": "closest",
          "mapbox": {
           "style": "light"
          },
          "paper_bgcolor": "white",
          "plot_bgcolor": "#E5ECF6",
          "polar": {
           "angularaxis": {
            "gridcolor": "white",
            "linecolor": "white",
            "ticks": ""
           },
           "bgcolor": "#E5ECF6",
           "radialaxis": {
            "gridcolor": "white",
            "linecolor": "white",
            "ticks": ""
           }
          },
          "scene": {
           "xaxis": {
            "backgroundcolor": "#E5ECF6",
            "gridcolor": "white",
            "gridwidth": 2,
            "linecolor": "white",
            "showbackground": true,
            "ticks": "",
            "zerolinecolor": "white"
           },
           "yaxis": {
            "backgroundcolor": "#E5ECF6",
            "gridcolor": "white",
            "gridwidth": 2,
            "linecolor": "white",
            "showbackground": true,
            "ticks": "",
            "zerolinecolor": "white"
           },
           "zaxis": {
            "backgroundcolor": "#E5ECF6",
            "gridcolor": "white",
            "gridwidth": 2,
            "linecolor": "white",
            "showbackground": true,
            "ticks": "",
            "zerolinecolor": "white"
           }
          },
          "shapedefaults": {
           "line": {
            "color": "#2a3f5f"
           }
          },
          "ternary": {
           "aaxis": {
            "gridcolor": "white",
            "linecolor": "white",
            "ticks": ""
           },
           "baxis": {
            "gridcolor": "white",
            "linecolor": "white",
            "ticks": ""
           },
           "bgcolor": "#E5ECF6",
           "caxis": {
            "gridcolor": "white",
            "linecolor": "white",
            "ticks": ""
           }
          },
          "title": {
           "x": 0.05
          },
          "xaxis": {
           "automargin": true,
           "gridcolor": "white",
           "linecolor": "white",
           "ticks": "",
           "title": {
            "standoff": 15
           },
           "zerolinecolor": "white",
           "zerolinewidth": 2
          },
          "yaxis": {
           "automargin": true,
           "gridcolor": "white",
           "linecolor": "white",
           "ticks": "",
           "title": {
            "standoff": 15
           },
           "zerolinecolor": "white",
           "zerolinewidth": 2
          }
         }
        },
        "xaxis": {
         "anchor": "y",
         "domain": [
          0,
          1
         ],
         "title": {
          "text": "Total ESG Risk score"
         }
        },
        "yaxis": {
         "anchor": "x",
         "domain": [
          0,
          1
         ],
         "title": {
          "text": "Controversy Score"
         }
        }
       }
      }
     },
     "metadata": {},
     "output_type": "display_data"
    }
   ],
   "source": [
    "scatter(data_frame=df1_cleaned, x='Total ESG Risk score', y='Controversy Score', color='Sector', hover_name='Symbol').show()"
   ]
  },
  {
   "cell_type": "code",
   "execution_count": 29,
   "metadata": {},
   "outputs": [
    {
     "data": {
      "application/vnd.plotly.v1+json": {
       "config": {
        "plotlyServerURL": "https://plot.ly"
       },
       "data": [
        {
         "hovertemplate": "<b>%{hovertext}</b><br><br>Full Time Employees=%{x}<br>Total ESG Risk score=%{y}<br>Controversy Score=%{marker.color}<extra></extra>",
         "hovertext": [
          "A",
          "AAL",
          "AAP",
          "AAPL",
          "ABBV",
          "ABC",
          "ABT",
          "ACGL",
          "ACN",
          "ADBE",
          "ADI",
          "ADM",
          "ADP",
          "ADSK",
          "AEE",
          "AEP",
          "AES",
          "AFL",
          "AIG",
          "AIZ",
          "AJG",
          "AKAM",
          "ALB",
          "ALGN",
          "ALK",
          "ALL",
          "ALLE",
          "AMAT",
          "AMCR",
          "AMD",
          "AME",
          "AMGN",
          "AMP",
          "AMT",
          "AMZN",
          "ANET",
          "ANSS",
          "AON",
          "AOS",
          "APA",
          "APD",
          "APH",
          "APTV",
          "ARE",
          "ATO",
          "ATVI",
          "AVB",
          "AVGO",
          "AVY",
          "AWK",
          "AXON",
          "AXP",
          "AZO",
          "BA",
          "BAC",
          "BALL",
          "BAX",
          "BBWI",
          "BBY",
          "BDX",
          "BEN",
          "BF.B",
          "BG",
          "BIIB",
          "BIO",
          "BK",
          "BKNG",
          "BKR",
          "BLK",
          "BMY",
          "BR",
          "BRK-A",
          "BRO",
          "BSX",
          "BWA",
          "BXP",
          "C",
          "CAG",
          "CAH",
          "CARR",
          "CAT",
          "CB",
          "CBOE",
          "CBRE",
          "CCI",
          "CCL",
          "CDAY",
          "CDNS",
          "CDW",
          "CE",
          "CEG",
          "CF",
          "CFG",
          "CHD",
          "CHRW",
          "CHTR",
          "CI",
          "CINF",
          "CL",
          "CLX",
          "CMA",
          "CMCSA",
          "CME",
          "CMG",
          "CMI",
          "CMS",
          "CNC",
          "CNP",
          "COF",
          "COO",
          "COP",
          "COST",
          "CPB",
          "CPRT",
          "CPT",
          "CRL",
          "CRM",
          "CSCO",
          "CSGP",
          "CSX",
          "CTAS",
          "CTLT",
          "CTRA",
          "CTSH",
          "CTVA",
          "CVS",
          "CVX",
          "CZR",
          "D",
          "DAL",
          "DD",
          "DE",
          "DFS",
          "DG",
          "DGX",
          "DHI",
          "DHR",
          "DIS",
          "DLR",
          "DLTR",
          "DOV",
          "DOW",
          "DPZ",
          "DRI",
          "DTE",
          "DUK",
          "DVA",
          "DVN",
          "DXC",
          "DXCM",
          "EA",
          "EBAY",
          "ECL",
          "ED",
          "EFX",
          "EG",
          "EIX",
          "EL",
          "ELV",
          "EMN",
          "EMR",
          "ENPH",
          "EOG",
          "EPAM",
          "EQIX",
          "EQR",
          "EQT",
          "ES",
          "ESS",
          "ETN",
          "ETR",
          "ETSY",
          "EVRG",
          "EW",
          "EXC",
          "EXPD",
          "EXPE",
          "EXR",
          "F",
          "FANG",
          "FAST",
          "FCX",
          "FDS",
          "FDX",
          "FE",
          "FFIV",
          "FI",
          "FICO",
          "FIS",
          "FITB",
          "FLT",
          "FMC",
          "FOX",
          "FOXA",
          "FRT",
          "FSLR",
          "FTNT",
          "FTRE",
          "FTV",
          "GD",
          "GE",
          "GEHC",
          "GEN",
          "GILD",
          "GIS",
          "GL",
          "GLW",
          "GM",
          "GNRC",
          "GOOG",
          "GOOGL",
          "GPC",
          "GPN",
          "GRMN",
          "GS",
          "GWW",
          "HAL",
          "HAS",
          "HBAN",
          "HCA",
          "HD",
          "HES",
          "HIG",
          "HII",
          "HLT",
          "HOLX",
          "HON",
          "HPE",
          "HPQ",
          "HRL",
          "HSIC",
          "HST",
          "HSY",
          "HUM",
          "HWM",
          "IBM",
          "ICE",
          "IDXX",
          "IEX",
          "IFF",
          "ILMN",
          "INCY",
          "INTC",
          "INTU",
          "INVH",
          "IP",
          "IPG",
          "IQV",
          "IR",
          "IRM",
          "ISRG",
          "IT",
          "ITW",
          "IVZ",
          "J",
          "JBHT",
          "JCI",
          "JKHY",
          "JNJ",
          "JNPR",
          "JPM",
          "K",
          "KDP",
          "KEY",
          "KEYS",
          "KHC",
          "KIM",
          "KLAC",
          "KMB",
          "KMI",
          "KMX",
          "KO",
          "KR",
          "L",
          "LDOS",
          "LEN",
          "LH",
          "LHX",
          "LIN",
          "LKQ",
          "LLY",
          "LMT",
          "LNC",
          "LNT",
          "LOW",
          "LRCX",
          "LUV",
          "LVS",
          "LW",
          "LYB",
          "LYV",
          "MA",
          "MAA",
          "MAR",
          "MAS",
          "MCD",
          "MCHP",
          "MCK",
          "MCO",
          "MDLZ",
          "MDT",
          "MET",
          "META",
          "MGM",
          "MHK",
          "MKC",
          "MKTX",
          "MLM",
          "MMC",
          "MMM",
          "MNST",
          "MO",
          "MOH",
          "MOS",
          "MPC",
          "MPWR",
          "MRK",
          "MRNA",
          "MRO",
          "MS",
          "MSCI",
          "MSFT",
          "MSI",
          "MTB",
          "MTCH",
          "MTD",
          "MU",
          "NCLH",
          "NDAQ",
          "NDSN",
          "NEE",
          "NEM",
          "NFLX",
          "NI",
          "NKE",
          "NOC",
          "NOW",
          "NRG",
          "NSC",
          "NTAP",
          "NTRS",
          "NUE",
          "NVDA",
          "NVR",
          "NWL",
          "NWS",
          "NWSA",
          "NXPI",
          "O",
          "ODFL",
          "OGN",
          "OKE",
          "OMC",
          "ON",
          "ORCL",
          "ORLY",
          "OTIS",
          "OXY",
          "PANW",
          "PARA",
          "PAYC",
          "PAYX",
          "PCAR",
          "PCG",
          "PEAK",
          "PEG",
          "PEP",
          "PFE",
          "PFG",
          "PG",
          "PGR",
          "PH",
          "PHM",
          "PKG",
          "PLD",
          "PM",
          "PNC",
          "PNR",
          "PNW",
          "PODD",
          "POOL",
          "PPG",
          "PPL",
          "PRU",
          "PSA",
          "PSX",
          "PTC",
          "PWR",
          "PXD",
          "PYPL",
          "QCOM",
          "QRVO",
          "RCL",
          "REG",
          "REGN",
          "RF",
          "RHI",
          "RJF",
          "RL",
          "RMD",
          "ROK",
          "ROL",
          "ROP",
          "ROST",
          "RSG",
          "RTX",
          "RVTY",
          "SBAC",
          "SBUX",
          "SCHW",
          "SEDG",
          "SEE",
          "SHW",
          "SJM",
          "SLB",
          "SNA",
          "SNPS",
          "SO",
          "SPG",
          "SPGI",
          "SRE",
          "STE",
          "STLD",
          "STT",
          "STX",
          "STZ",
          "SWK",
          "SWKS",
          "SYF",
          "SYK",
          "SYY",
          "T",
          "TAP",
          "TDG",
          "TDY",
          "TECH",
          "TEL",
          "TER",
          "TFC",
          "TFX",
          "TGT",
          "TJX",
          "TMO",
          "TMUS",
          "TPR",
          "TRGP",
          "TRMB",
          "TROW",
          "TRV",
          "TSCO",
          "TSLA",
          "TSN",
          "TT",
          "TTWO",
          "TXN",
          "TXT",
          "TYL",
          "UAL",
          "UDR",
          "UHS",
          "ULTA",
          "UNH",
          "UNP",
          "UPS",
          "URI",
          "USB",
          "V",
          "VFC",
          "VICI",
          "VLO",
          "VMC",
          "VRSK",
          "VRSN",
          "VRTX",
          "VTR",
          "VTRS",
          "VZ",
          "WAB",
          "WAT",
          "WBA",
          "WBD",
          "WDC",
          "WEC",
          "WELL",
          "WFC",
          "WHR",
          "WM",
          "WMB",
          "WMT",
          "WRB",
          "WRK",
          "WST",
          "WTW",
          "WY",
          "WYNN",
          "XEL",
          "XRAY",
          "XYL",
          "YUM",
          "ZBH",
          "ZBRA",
          "ZION",
          "ZTS"
         ],
         "legendgroup": "",
         "marker": {
          "color": [
           1,
           2,
           2,
           3,
           3,
           3,
           3,
           2,
           2,
           1,
           0,
           3,
           1,
           0,
           2,
           2,
           2,
           2,
           2,
           3,
           2,
           1,
           2,
           null,
           null,
           2,
           0,
           1,
           null,
           null,
           1,
           3,
           2,
           1,
           3,
           1,
           0,
           null,
           0,
           2,
           1,
           2,
           1,
           0,
           2,
           4,
           1,
           3,
           1,
           1,
           null,
           2,
           2,
           4,
           3,
           2,
           3,
           2,
           2,
           3,
           2,
           null,
           3,
           3,
           1,
           3,
           3,
           null,
           2,
           2,
           2,
           null,
           1,
           2,
           2,
           1,
           4,
           2,
           3,
           null,
           4,
           2,
           1,
           1,
           0,
           3,
           null,
           0,
           0,
           2,
           null,
           1,
           2,
           2,
           1,
           2,
           2,
           1,
           3,
           2,
           2,
           2,
           1,
           2,
           2,
           2,
           2,
           2,
           4,
           2,
           2,
           3,
           2,
           1,
           1,
           null,
           2,
           2,
           1,
           3,
           2,
           null,
           2,
           2,
           null,
           3,
           3,
           null,
           2,
           2,
           3,
           2,
           2,
           2,
           3,
           2,
           2,
           2,
           0,
           2,
           1,
           null,
           2,
           2,
           2,
           2,
           2,
           2,
           2,
           0,
           2,
           2,
           2,
           3,
           4,
           null,
           3,
           2,
           2,
           2,
           2,
           null,
           1,
           null,
           1,
           1,
           1,
           2,
           1,
           1,
           2,
           null,
           null,
           2,
           3,
           2,
           2,
           1,
           3,
           null,
           2,
           4,
           1,
           2,
           3,
           1,
           null,
           null,
           1,
           2,
           2,
           2,
           null,
           null,
           1,
           null,
           1,
           null,
           1,
           3,
           3,
           null,
           2,
           2,
           2,
           1,
           2,
           4,
           null,
           null,
           4,
           2,
           1,
           2,
           3,
           1,
           2,
           2,
           2,
           2,
           2,
           2,
           1,
           null,
           2,
           1,
           3,
           2,
           2,
           3,
           2,
           1,
           3,
           2,
           null,
           2,
           2,
           1,
           0,
           2,
           3,
           1,
           3,
           2,
           null,
           3,
           1,
           2,
           null,
           2,
           1,
           1,
           2,
           2,
           3,
           1,
           3,
           0,
           4,
           1,
           3,
           2,
           null,
           1,
           1,
           3,
           0,
           0,
           2,
           2,
           2,
           3,
           3,
           2,
           2,
           2,
           2,
           null,
           null,
           2,
           2,
           3,
           2,
           1,
           2,
           1,
           2,
           2,
           null,
           2,
           null,
           4,
           1,
           3,
           1,
           3,
           1,
           3,
           2,
           3,
           3,
           2,
           4,
           2,
           2,
           2,
           null,
           2,
           2,
           3,
           2,
           2,
           null,
           2,
           3,
           null,
           3,
           null,
           2,
           3,
           0,
           3,
           3,
           1,
           null,
           0,
           2,
           2,
           1,
           1,
           2,
           3,
           2,
           3,
           3,
           2,
           1,
           2,
           2,
           1,
           2,
           2,
           2,
           1,
           2,
           null,
           2,
           1,
           2,
           null,
           null,
           1,
           1,
           1,
           2,
           1,
           null,
           2,
           1,
           null,
           null,
           0,
           3,
           5,
           0,
           2,
           3,
           3,
           1,
           3,
           1,
           2,
           2,
           1,
           1,
           3,
           3,
           1,
           1,
           null,
           null,
           1,
           2,
           1,
           1,
           3,
           0,
           2,
           1,
           2,
           4,
           0,
           3,
           0,
           2,
           2,
           1,
           2,
           2,
           1,
           2,
           1,
           0,
           2,
           3,
           null,
           null,
           0,
           3,
           2,
           null,
           2,
           2,
           2,
           1,
           1,
           0,
           2,
           1,
           1,
           3,
           null,
           1,
           2,
           1,
           2,
           2,
           1,
           2,
           3,
           2,
           3,
           2,
           2,
           null,
           null,
           0,
           0,
           null,
           2,
           3,
           2,
           3,
           3,
           2,
           2,
           0,
           1,
           1,
           2,
           3,
           4,
           2,
           null,
           2,
           2,
           null,
           2,
           1,
           3,
           2,
           3,
           2,
           2,
           1,
           3,
           3,
           2,
           null,
           2,
           2,
           1,
           1,
           2,
           0,
           null,
           3,
           1,
           0,
           3,
           null,
           1,
           1,
           1,
           5,
           2,
           2,
           2,
           4,
           1,
           null,
           null,
           2,
           2,
           3,
           2,
           1,
           1,
           2,
           2,
           null,
           null,
           1
          ],
          "coloraxis": "coloraxis",
          "symbol": "circle"
         },
         "mode": "markers",
         "name": "",
         "orientation": "v",
         "showlegend": false,
         "type": "scatter",
         "x": [
          18000,
          132500,
          40000,
          164000,
          50000,
          46000,
          115000,
          5800,
          732000,
          29239,
          24450,
          40360,
          63000,
          13700,
          9244,
          16974,
          9100,
          12882,
          26200,
          13700,
          45641,
          9800,
          7400,
          22910,
          23140,
          54000,
          12300,
          33000,
          41000,
          25000,
          19600,
          25200,
          13500,
          6391,
          1541000,
          3612,
          6000,
          50000,
          12000,
          2273,
          19710,
          91000,
          160000,
          593,
          4791,
          13000,
          2859,
          20000,
          2900,
          6500,
          2821,
          77300,
          69440,
          156000,
          216000,
          21000,
          60000,
          8800,
          52200,
          77000,
          9300,
          null,
          23000,
          8725,
          8200,
          53200,
          23100,
          57000,
          19300,
          34300,
          14700,
          383000,
          15201,
          45000,
          52700,
          780,
          240000,
          18600,
          47040,
          52000,
          null,
          34000,
          1543,
          115000,
          5000,
          87000,
          8526,
          10200,
          11100,
          13263,
          13370,
          2700,
          18468,
          5250,
          16523,
          101700,
          71300,
          5148,
          33800,
          8700,
          7280,
          186000,
          3460,
          104958,
          73600,
          8560,
          74300,
          8986,
          55600,
          14000,
          9700,
          304000,
          14700,
          9500,
          1650,
          20000,
          79390,
          null,
          5653,
          22700,
          44500,
          19000,
          981,
          345600,
          21000,
          219000,
          43846,
          49000,
          17200,
          95000,
          23000,
          82200,
          20200,
          170000,
          40000,
          13237,
          79000,
          171600,
          3412,
          65025,
          25000,
          37800,
          6500,
          187384,
          10102,
          27859,
          70000,
          1800,
          130000,
          7500,
          13400,
          11600,
          47000,
          14319,
          14000,
          2428,
          13388,
          44020,
          102300,
          14500,
          85500,
          2821,
          2850,
          59300,
          12621,
          2400,
          744,
          10000,
          1770,
          92000,
          12000,
          2790,
          4512,
          17300,
          19063,
          19900,
          16500,
          4781,
          173000,
          972,
          20631,
          25600,
          12072,
          328000,
          12335,
          4097,
          41000,
          3437,
          69000,
          19225,
          9900,
          6600,
          10400,
          10400,
          314,
          5500,
          13677,
          19000,
          18000,
          106500,
          172000,
          50000,
          3700,
          17000,
          34000,
          3543,
          57500,
          167000,
          9160,
          181798,
          181798,
          58000,
          25000,
          19700,
          44600,
          23000,
          47000,
          6490,
          20198,
          207000,
          470000,
          1623,
          18800,
          43000,
          159000,
          6944,
          97000,
          60200,
          58000,
          20000,
          23000,
          165,
          18075,
          67100,
          21400,
          288300,
          9116,
          11000,
          8868,
          24600,
          11500,
          2324,
          131900,
          17300,
          1511,
          39000,
          57800,
          87000,
          17000,
          26000,
          12120,
          20104,
          46000,
          8621,
          60000,
          37151,
          100000,
          null,
          152700,
          10901,
          300066,
          30000,
          28000,
          17987,
          15000,
          37000,
          639,
          15000,
          44000,
          10525,
          30000,
          82500,
          500000,
          12050,
          45000,
          12012,
          60000,
          46000,
          66270,
          45000,
          39000,
          116000,
          11316,
          3129,
          300000,
          17200,
          71299,
          35500,
          10200,
          19300,
          12800,
          29900,
          2387,
          377000,
          19000,
          100000,
          22600,
          45000,
          14635,
          91000,
          95000,
          45000,
          71469,
          57000,
          40900,
          14200,
          744,
          9400,
          85000,
          92000,
          4607,
          6300,
          15000,
          13570,
          17800,
          3247,
          67000,
          3900,
          1570,
          82000,
          4980,
          221000,
          20000,
          22946,
          2700,
          16400,
          48000,
          38900,
          6565,
          7331,
          15300,
          14600,
          12800,
          7117,
          83700,
          95000,
          20433,
          6603,
          19300,
          12000,
          23600,
          31400,
          26196,
          6550,
          28000,
          25000,
          25000,
          34500,
          391,
          22717,
          10000,
          2966,
          74200,
          31000,
          164000,
          88149,
          69000,
          11973,
          null,
          24500,
          6349,
          16600,
          31100,
          26010,
          199,
          12525,
          315000,
          83000,
          19300,
          107000,
          55100,
          null,
          6524,
          15100,
          2466,
          79800,
          58231,
          11250,
          5861,
          2600,
          6000,
          52000,
          6527,
          39583,
          5900,
          13000,
          7165,
          47300,
          2076,
          29900,
          51000,
          8500,
          102400,
          440,
          12256,
          20349,
          16300,
          17000,
          14900,
          10140,
          26000,
          17515,
          15800,
          101000,
          40000,
          182000,
          11000,
          1834,
          402000,
          36600,
          4926,
          16300,
          64366,
          5800,
          99000,
          12900,
          19000,
          27423,
          2500,
          39660,
          15785,
          17000,
          12060,
          42688,
          33400,
          10700,
          50000,
          11150,
          18500,
          51000,
          72000,
          160700,
          16600,
          14400,
          14700,
          3200,
          92000,
          6500,
          52848,
          15500,
          440000,
          329000,
          130000,
          71000,
          12600,
          2850,
          11825,
          7903,
          31850,
          52000,
          127855,
          142000,
          39000,
          11580,
          33000,
          34000,
          7247,
          99800,
          1317,
          93800,
          18500,
          400000,
          31766,
          300160,
          24600,
          77000,
          26500,
          19800,
          23,
          9716,
          11974,
          7000,
          914,
          4800,
          451,
          38000,
          117100,
          27000,
          8200,
          325000,
          37500,
          null,
          7000,
          514,
          233834,
          61000,
          49500,
          5043,
          2100000,
          8186,
          50500,
          10700,
          46000,
          9264,
          27000,
          11982,
          15000,
          22000,
          36000,
          18000,
          10500,
          10103,
          13800
         ],
         "xaxis": "x",
         "y": [
          15,
          29,
          12,
          17,
          28,
          12,
          25,
          21,
          10,
          12,
          24,
          36,
          14,
          16,
          30,
          26,
          34,
          17,
          25,
          24,
          21,
          17,
          29,
          null,
          null,
          19,
          24,
          12,
          null,
          null,
          24,
          22,
          23,
          11,
          30,
          16,
          13,
          null,
          25,
          39,
          11,
          21,
          12,
          14,
          35,
          19,
          11,
          22,
          15,
          22,
          null,
          18,
          11,
          35,
          27,
          11,
          24,
          16,
          14,
          27,
          18,
          null,
          34,
          21,
          17,
          21,
          22,
          null,
          21,
          23,
          16,
          null,
          21,
          26,
          13,
          13,
          27,
          32,
          12,
          null,
          34,
          24,
          21,
          7,
          13,
          24,
          null,
          12,
          9,
          29,
          null,
          30,
          23,
          20,
          20,
          27,
          12,
          26,
          22,
          21,
          26,
          25,
          15,
          24,
          19,
          21,
          21,
          26,
          23,
          20,
          35,
          24,
          24,
          18,
          16,
          null,
          13,
          12,
          27,
          20,
          18,
          null,
          46,
          14,
          null,
          23,
          38,
          null,
          25,
          26,
          29,
          17,
          23,
          17,
          21,
          22,
          12,
          15,
          13,
          15,
          25,
          null,
          31,
          28,
          30,
          28,
          23,
          37,
          16,
          24,
          10,
          17,
          24,
          23,
          26,
          null,
          27,
          26,
          11,
          25,
          29,
          null,
          36,
          null,
          12,
          11,
          37,
          19,
          12,
          18,
          30,
          null,
          null,
          19,
          24,
          16,
          26,
          14,
          30,
          null,
          26,
          32,
          20,
          20,
          30,
          19,
          null,
          null,
          18,
          17,
          18,
          33,
          null,
          null,
          12,
          null,
          19,
          null,
          35,
          35,
          41,
          null,
          15,
          22,
          22,
          20,
          19,
          31,
          null,
          null,
          24,
          13,
          19,
          19,
          26,
          15,
          24,
          7,
          20,
          28,
          13,
          36,
          16,
          null,
          17,
          28,
          29,
          12,
          11,
          30,
          13,
          14,
          27,
          22,
          null,
          15,
          16,
          19,
          27,
          22,
          11,
          24,
          17,
          16,
          null,
          24,
          10,
          19,
          null,
          15,
          24,
          22,
          20,
          20,
          22,
          14,
          15,
          15,
          25,
          17,
          29,
          27,
          null,
          23,
          9,
          35,
          12,
          17,
          22,
          19,
          12,
          23,
          21,
          16,
          12,
          23,
          19,
          null,
          null,
          11,
          32,
          28,
          18,
          22,
          11,
          13,
          32,
          18,
          null,
          25,
          null,
          17,
          15,
          22,
          22,
          25,
          31,
          15,
          11,
          24,
          23,
          15,
          33,
          25,
          14,
          27,
          null,
          32,
          19,
          34,
          28,
          24,
          null,
          34,
          29,
          null,
          22,
          null,
          42,
          22,
          16,
          15,
          14,
          26,
          null,
          13,
          17,
          26,
          12,
          27,
          28,
          20,
          16,
          30,
          17,
          27,
          16,
          32,
          23,
          15,
          24,
          32,
          13,
          20,
          14,
          null,
          12,
          22,
          15,
          null,
          null,
          26,
          16,
          27,
          14,
          13,
          null,
          43,
          14,
          null,
          null,
          17,
          28,
          35,
          10,
          26,
          16,
          25,
          17,
          27,
          21,
          29,
          21,
          17,
          9,
          24,
          22,
          23,
          31,
          null,
          null,
          24,
          34,
          16,
          12,
          29,
          19,
          37,
          37,
          16,
          17,
          29,
          21,
          11,
          18,
          16,
          11,
          24,
          13,
          26,
          18,
          20,
          23,
          16,
          21,
          null,
          null,
          12,
          25,
          24,
          null,
          21,
          29,
          31,
          22,
          31,
          13,
          33,
          14,
          14,
          25,
          null,
          32,
          22,
          11,
          26,
          26,
          28,
          17,
          29,
          12,
          22,
          21,
          39,
          null,
          null,
          16,
          16,
          null,
          30,
          15,
          14,
          14,
          26,
          13,
          34,
          13,
          17,
          21,
          14,
          29,
          37,
          16,
          null,
          20,
          34,
          null,
          29,
          12,
          33,
          15,
          18,
          25,
          20,
          18,
          30,
          16,
          13,
          null,
          30,
          29,
          19,
          21,
          23,
          13,
          null,
          18,
          23,
          17,
          18,
          null,
          11,
          27,
          12,
          33,
          16,
          17,
          24,
          25,
          22,
          null,
          null,
          19,
          18,
          26,
          24,
          16,
          16,
          21,
          27,
          null,
          null,
          18
         ],
         "yaxis": "y"
        }
       ],
       "layout": {
        "coloraxis": {
         "colorbar": {
          "title": {
           "text": "Controversy Score"
          }
         },
         "colorscale": [
          [
           0,
           "#0d0887"
          ],
          [
           0.1111111111111111,
           "#46039f"
          ],
          [
           0.2222222222222222,
           "#7201a8"
          ],
          [
           0.3333333333333333,
           "#9c179e"
          ],
          [
           0.4444444444444444,
           "#bd3786"
          ],
          [
           0.5555555555555556,
           "#d8576b"
          ],
          [
           0.6666666666666666,
           "#ed7953"
          ],
          [
           0.7777777777777778,
           "#fb9f3a"
          ],
          [
           0.8888888888888888,
           "#fdca26"
          ],
          [
           1,
           "#f0f921"
          ]
         ]
        },
        "legend": {
         "tracegroupgap": 0
        },
        "margin": {
         "t": 60
        },
        "template": {
         "data": {
          "bar": [
           {
            "error_x": {
             "color": "#2a3f5f"
            },
            "error_y": {
             "color": "#2a3f5f"
            },
            "marker": {
             "line": {
              "color": "#E5ECF6",
              "width": 0.5
             },
             "pattern": {
              "fillmode": "overlay",
              "size": 10,
              "solidity": 0.2
             }
            },
            "type": "bar"
           }
          ],
          "barpolar": [
           {
            "marker": {
             "line": {
              "color": "#E5ECF6",
              "width": 0.5
             },
             "pattern": {
              "fillmode": "overlay",
              "size": 10,
              "solidity": 0.2
             }
            },
            "type": "barpolar"
           }
          ],
          "carpet": [
           {
            "aaxis": {
             "endlinecolor": "#2a3f5f",
             "gridcolor": "white",
             "linecolor": "white",
             "minorgridcolor": "white",
             "startlinecolor": "#2a3f5f"
            },
            "baxis": {
             "endlinecolor": "#2a3f5f",
             "gridcolor": "white",
             "linecolor": "white",
             "minorgridcolor": "white",
             "startlinecolor": "#2a3f5f"
            },
            "type": "carpet"
           }
          ],
          "choropleth": [
           {
            "colorbar": {
             "outlinewidth": 0,
             "ticks": ""
            },
            "type": "choropleth"
           }
          ],
          "contour": [
           {
            "colorbar": {
             "outlinewidth": 0,
             "ticks": ""
            },
            "colorscale": [
             [
              0,
              "#0d0887"
             ],
             [
              0.1111111111111111,
              "#46039f"
             ],
             [
              0.2222222222222222,
              "#7201a8"
             ],
             [
              0.3333333333333333,
              "#9c179e"
             ],
             [
              0.4444444444444444,
              "#bd3786"
             ],
             [
              0.5555555555555556,
              "#d8576b"
             ],
             [
              0.6666666666666666,
              "#ed7953"
             ],
             [
              0.7777777777777778,
              "#fb9f3a"
             ],
             [
              0.8888888888888888,
              "#fdca26"
             ],
             [
              1,
              "#f0f921"
             ]
            ],
            "type": "contour"
           }
          ],
          "contourcarpet": [
           {
            "colorbar": {
             "outlinewidth": 0,
             "ticks": ""
            },
            "type": "contourcarpet"
           }
          ],
          "heatmap": [
           {
            "colorbar": {
             "outlinewidth": 0,
             "ticks": ""
            },
            "colorscale": [
             [
              0,
              "#0d0887"
             ],
             [
              0.1111111111111111,
              "#46039f"
             ],
             [
              0.2222222222222222,
              "#7201a8"
             ],
             [
              0.3333333333333333,
              "#9c179e"
             ],
             [
              0.4444444444444444,
              "#bd3786"
             ],
             [
              0.5555555555555556,
              "#d8576b"
             ],
             [
              0.6666666666666666,
              "#ed7953"
             ],
             [
              0.7777777777777778,
              "#fb9f3a"
             ],
             [
              0.8888888888888888,
              "#fdca26"
             ],
             [
              1,
              "#f0f921"
             ]
            ],
            "type": "heatmap"
           }
          ],
          "heatmapgl": [
           {
            "colorbar": {
             "outlinewidth": 0,
             "ticks": ""
            },
            "colorscale": [
             [
              0,
              "#0d0887"
             ],
             [
              0.1111111111111111,
              "#46039f"
             ],
             [
              0.2222222222222222,
              "#7201a8"
             ],
             [
              0.3333333333333333,
              "#9c179e"
             ],
             [
              0.4444444444444444,
              "#bd3786"
             ],
             [
              0.5555555555555556,
              "#d8576b"
             ],
             [
              0.6666666666666666,
              "#ed7953"
             ],
             [
              0.7777777777777778,
              "#fb9f3a"
             ],
             [
              0.8888888888888888,
              "#fdca26"
             ],
             [
              1,
              "#f0f921"
             ]
            ],
            "type": "heatmapgl"
           }
          ],
          "histogram": [
           {
            "marker": {
             "pattern": {
              "fillmode": "overlay",
              "size": 10,
              "solidity": 0.2
             }
            },
            "type": "histogram"
           }
          ],
          "histogram2d": [
           {
            "colorbar": {
             "outlinewidth": 0,
             "ticks": ""
            },
            "colorscale": [
             [
              0,
              "#0d0887"
             ],
             [
              0.1111111111111111,
              "#46039f"
             ],
             [
              0.2222222222222222,
              "#7201a8"
             ],
             [
              0.3333333333333333,
              "#9c179e"
             ],
             [
              0.4444444444444444,
              "#bd3786"
             ],
             [
              0.5555555555555556,
              "#d8576b"
             ],
             [
              0.6666666666666666,
              "#ed7953"
             ],
             [
              0.7777777777777778,
              "#fb9f3a"
             ],
             [
              0.8888888888888888,
              "#fdca26"
             ],
             [
              1,
              "#f0f921"
             ]
            ],
            "type": "histogram2d"
           }
          ],
          "histogram2dcontour": [
           {
            "colorbar": {
             "outlinewidth": 0,
             "ticks": ""
            },
            "colorscale": [
             [
              0,
              "#0d0887"
             ],
             [
              0.1111111111111111,
              "#46039f"
             ],
             [
              0.2222222222222222,
              "#7201a8"
             ],
             [
              0.3333333333333333,
              "#9c179e"
             ],
             [
              0.4444444444444444,
              "#bd3786"
             ],
             [
              0.5555555555555556,
              "#d8576b"
             ],
             [
              0.6666666666666666,
              "#ed7953"
             ],
             [
              0.7777777777777778,
              "#fb9f3a"
             ],
             [
              0.8888888888888888,
              "#fdca26"
             ],
             [
              1,
              "#f0f921"
             ]
            ],
            "type": "histogram2dcontour"
           }
          ],
          "mesh3d": [
           {
            "colorbar": {
             "outlinewidth": 0,
             "ticks": ""
            },
            "type": "mesh3d"
           }
          ],
          "parcoords": [
           {
            "line": {
             "colorbar": {
              "outlinewidth": 0,
              "ticks": ""
             }
            },
            "type": "parcoords"
           }
          ],
          "pie": [
           {
            "automargin": true,
            "type": "pie"
           }
          ],
          "scatter": [
           {
            "marker": {
             "colorbar": {
              "outlinewidth": 0,
              "ticks": ""
             }
            },
            "type": "scatter"
           }
          ],
          "scatter3d": [
           {
            "line": {
             "colorbar": {
              "outlinewidth": 0,
              "ticks": ""
             }
            },
            "marker": {
             "colorbar": {
              "outlinewidth": 0,
              "ticks": ""
             }
            },
            "type": "scatter3d"
           }
          ],
          "scattercarpet": [
           {
            "marker": {
             "colorbar": {
              "outlinewidth": 0,
              "ticks": ""
             }
            },
            "type": "scattercarpet"
           }
          ],
          "scattergeo": [
           {
            "marker": {
             "colorbar": {
              "outlinewidth": 0,
              "ticks": ""
             }
            },
            "type": "scattergeo"
           }
          ],
          "scattergl": [
           {
            "marker": {
             "colorbar": {
              "outlinewidth": 0,
              "ticks": ""
             }
            },
            "type": "scattergl"
           }
          ],
          "scattermapbox": [
           {
            "marker": {
             "colorbar": {
              "outlinewidth": 0,
              "ticks": ""
             }
            },
            "type": "scattermapbox"
           }
          ],
          "scatterpolar": [
           {
            "marker": {
             "colorbar": {
              "outlinewidth": 0,
              "ticks": ""
             }
            },
            "type": "scatterpolar"
           }
          ],
          "scatterpolargl": [
           {
            "marker": {
             "colorbar": {
              "outlinewidth": 0,
              "ticks": ""
             }
            },
            "type": "scatterpolargl"
           }
          ],
          "scatterternary": [
           {
            "marker": {
             "colorbar": {
              "outlinewidth": 0,
              "ticks": ""
             }
            },
            "type": "scatterternary"
           }
          ],
          "surface": [
           {
            "colorbar": {
             "outlinewidth": 0,
             "ticks": ""
            },
            "colorscale": [
             [
              0,
              "#0d0887"
             ],
             [
              0.1111111111111111,
              "#46039f"
             ],
             [
              0.2222222222222222,
              "#7201a8"
             ],
             [
              0.3333333333333333,
              "#9c179e"
             ],
             [
              0.4444444444444444,
              "#bd3786"
             ],
             [
              0.5555555555555556,
              "#d8576b"
             ],
             [
              0.6666666666666666,
              "#ed7953"
             ],
             [
              0.7777777777777778,
              "#fb9f3a"
             ],
             [
              0.8888888888888888,
              "#fdca26"
             ],
             [
              1,
              "#f0f921"
             ]
            ],
            "type": "surface"
           }
          ],
          "table": [
           {
            "cells": {
             "fill": {
              "color": "#EBF0F8"
             },
             "line": {
              "color": "white"
             }
            },
            "header": {
             "fill": {
              "color": "#C8D4E3"
             },
             "line": {
              "color": "white"
             }
            },
            "type": "table"
           }
          ]
         },
         "layout": {
          "annotationdefaults": {
           "arrowcolor": "#2a3f5f",
           "arrowhead": 0,
           "arrowwidth": 1
          },
          "autotypenumbers": "strict",
          "coloraxis": {
           "colorbar": {
            "outlinewidth": 0,
            "ticks": ""
           }
          },
          "colorscale": {
           "diverging": [
            [
             0,
             "#8e0152"
            ],
            [
             0.1,
             "#c51b7d"
            ],
            [
             0.2,
             "#de77ae"
            ],
            [
             0.3,
             "#f1b6da"
            ],
            [
             0.4,
             "#fde0ef"
            ],
            [
             0.5,
             "#f7f7f7"
            ],
            [
             0.6,
             "#e6f5d0"
            ],
            [
             0.7,
             "#b8e186"
            ],
            [
             0.8,
             "#7fbc41"
            ],
            [
             0.9,
             "#4d9221"
            ],
            [
             1,
             "#276419"
            ]
           ],
           "sequential": [
            [
             0,
             "#0d0887"
            ],
            [
             0.1111111111111111,
             "#46039f"
            ],
            [
             0.2222222222222222,
             "#7201a8"
            ],
            [
             0.3333333333333333,
             "#9c179e"
            ],
            [
             0.4444444444444444,
             "#bd3786"
            ],
            [
             0.5555555555555556,
             "#d8576b"
            ],
            [
             0.6666666666666666,
             "#ed7953"
            ],
            [
             0.7777777777777778,
             "#fb9f3a"
            ],
            [
             0.8888888888888888,
             "#fdca26"
            ],
            [
             1,
             "#f0f921"
            ]
           ],
           "sequentialminus": [
            [
             0,
             "#0d0887"
            ],
            [
             0.1111111111111111,
             "#46039f"
            ],
            [
             0.2222222222222222,
             "#7201a8"
            ],
            [
             0.3333333333333333,
             "#9c179e"
            ],
            [
             0.4444444444444444,
             "#bd3786"
            ],
            [
             0.5555555555555556,
             "#d8576b"
            ],
            [
             0.6666666666666666,
             "#ed7953"
            ],
            [
             0.7777777777777778,
             "#fb9f3a"
            ],
            [
             0.8888888888888888,
             "#fdca26"
            ],
            [
             1,
             "#f0f921"
            ]
           ]
          },
          "colorway": [
           "#636efa",
           "#EF553B",
           "#00cc96",
           "#ab63fa",
           "#FFA15A",
           "#19d3f3",
           "#FF6692",
           "#B6E880",
           "#FF97FF",
           "#FECB52"
          ],
          "font": {
           "color": "#2a3f5f"
          },
          "geo": {
           "bgcolor": "white",
           "lakecolor": "white",
           "landcolor": "#E5ECF6",
           "showlakes": true,
           "showland": true,
           "subunitcolor": "white"
          },
          "hoverlabel": {
           "align": "left"
          },
          "hovermode": "closest",
          "mapbox": {
           "style": "light"
          },
          "paper_bgcolor": "white",
          "plot_bgcolor": "#E5ECF6",
          "polar": {
           "angularaxis": {
            "gridcolor": "white",
            "linecolor": "white",
            "ticks": ""
           },
           "bgcolor": "#E5ECF6",
           "radialaxis": {
            "gridcolor": "white",
            "linecolor": "white",
            "ticks": ""
           }
          },
          "scene": {
           "xaxis": {
            "backgroundcolor": "#E5ECF6",
            "gridcolor": "white",
            "gridwidth": 2,
            "linecolor": "white",
            "showbackground": true,
            "ticks": "",
            "zerolinecolor": "white"
           },
           "yaxis": {
            "backgroundcolor": "#E5ECF6",
            "gridcolor": "white",
            "gridwidth": 2,
            "linecolor": "white",
            "showbackground": true,
            "ticks": "",
            "zerolinecolor": "white"
           },
           "zaxis": {
            "backgroundcolor": "#E5ECF6",
            "gridcolor": "white",
            "gridwidth": 2,
            "linecolor": "white",
            "showbackground": true,
            "ticks": "",
            "zerolinecolor": "white"
           }
          },
          "shapedefaults": {
           "line": {
            "color": "#2a3f5f"
           }
          },
          "ternary": {
           "aaxis": {
            "gridcolor": "white",
            "linecolor": "white",
            "ticks": ""
           },
           "baxis": {
            "gridcolor": "white",
            "linecolor": "white",
            "ticks": ""
           },
           "bgcolor": "#E5ECF6",
           "caxis": {
            "gridcolor": "white",
            "linecolor": "white",
            "ticks": ""
           }
          },
          "title": {
           "x": 0.05
          },
          "xaxis": {
           "automargin": true,
           "gridcolor": "white",
           "linecolor": "white",
           "ticks": "",
           "title": {
            "standoff": 15
           },
           "zerolinecolor": "white",
           "zerolinewidth": 2
          },
          "yaxis": {
           "automargin": true,
           "gridcolor": "white",
           "linecolor": "white",
           "ticks": "",
           "title": {
            "standoff": 15
           },
           "zerolinecolor": "white",
           "zerolinewidth": 2
          }
         }
        },
        "xaxis": {
         "anchor": "y",
         "domain": [
          0,
          1
         ],
         "title": {
          "text": "Full Time Employees"
         },
         "type": "log"
        },
        "yaxis": {
         "anchor": "x",
         "domain": [
          0,
          1
         ],
         "title": {
          "text": "Total ESG Risk score"
         }
        }
       }
      }
     },
     "metadata": {},
     "output_type": "display_data"
    }
   ],
   "source": [
    "scatter(data_frame=df1, y='Total ESG Risk score', x='Full Time Employees', color='Controversy Score',  hover_name='Symbol', log_x=True).show()"
   ]
  },
  {
   "cell_type": "code",
   "execution_count": 25,
   "metadata": {},
   "outputs": [
    {
     "data": {
      "text/plain": [
       "<seaborn.axisgrid.PairGrid at 0x7fb20a3e0fd0>"
      ]
     },
     "execution_count": 25,
     "metadata": {},
     "output_type": "execute_result"
    },
    {
     "data": {
      "image/png": "[encoded data removed]",
      "text/plain": [
       "<Figure size 1059.75x900 with 30 Axes>"
      ]
     },
     "metadata": {
      "needs_background": "light"
     },
     "output_type": "display_data"
    }
   ],
   "source": [
    "from seaborn import pairplot\n",
    "columns = ['Sector', 'log_employees'] + [item for item in df1.columns if 'Score' in item]\n",
    "pairplot(data=df1[columns], hue='Sector')"
   ]
  }
 ],
 "metadata": {
  "kernelspec": {
   "display_name": "PythonData",
   "language": "python",
   "name": "pythondata"
  },
  "language_info": {
   "codemirror_mode": {
    "name": "ipython",
    "version": 3
   },
   "file_extension": ".py",
   "mimetype": "text/x-python",
   "name": "python",
   "nbconvert_exporter": "python",
   "pygments_lexer": "ipython3",
   "version": "3.8.8"
  },
  "orig_nbformat": 4
 },
 "nbformat": 4,
 "nbformat_minor": 2
}
